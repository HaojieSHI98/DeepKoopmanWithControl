{
 "cells": [
  {
   "cell_type": "code",
   "execution_count": 1,
   "metadata": {},
   "outputs": [],
   "source": [
    "import torch\n",
    "import numpy as np\n",
    "import torch.nn as nn\n",
    "import torch.nn.functional as F\n",
    "import gym\n",
    "import matplotlib.pyplot as plt\n",
    "import random\n",
    "import argparse\n",
    "from collections import OrderedDict\n",
    "from copy import copy\n",
    "# import Learn_Knonlinear as lka\n",
    "import scipy\n",
    "import scipy.linalg\n",
    "from scipy.integrate import odeint\n",
    "import sys\n",
    "import os\n",
    "sys.path.append(\"../utility\")\n",
    "sys.path.append(\"../train\")\n",
    "from Utility import data_collecter\n",
    "os.environ['KMP_DUPLICATE_LIB_OK'] = \"TRUE\""
   ]
  },
  {
   "cell_type": "code",
   "execution_count": 6,
   "metadata": {},
   "outputs": [],
   "source": [
    "Methods = [\"KoopmanDerivative\",\"KoopmanRBF\",\\\n",
    "            \"KNonlinear\",\"KNonlinearRNN\",\"KoopmanU\",\\\n",
    "            \"KoopmanNonlinearA\",\"KoopmanNonlinear\",\\\n",
    "                ]\n",
    "Method_names = [\"KDerivative\",\"KRBF\",\\\n",
    "            \"KDNN\",\"KRNN\",\"DKUC(ours)\",\\\n",
    "            \"DKAC(ours)\",\"DKN(ours)\",\\\n",
    "                ]"
   ]
  },
  {
   "cell_type": "code",
   "execution_count": 3,
   "metadata": {},
   "outputs": [],
   "source": [
    "def eval_err(suffix,env_name,method_index):\n",
    "    # method_index = 0\n",
    "    method = Methods[method_index]\n",
    "    root_path = \"../Data/\"+suffix\n",
    "    print(method)\n",
    "    if method.endswith(\"KNonlinear\"):\n",
    "        import Learn_Knonlinear as lka\n",
    "    elif method.endswith(\"KNonlinearRNN\"):\n",
    "        import Learn_Knonlinear_RNN as lka\n",
    "    elif method.endswith(\"KoopmanNonlinear\"):\n",
    "        import Learn_KoopmanNonlinear_with_KlinearEig as lka\n",
    "    elif method.endswith(\"KoopmanNonlinearA\"):\n",
    "        import Learn_KoopmanNonlinearA_with_KlinearEig as lka\n",
    "    elif method.endswith(\"KoopmanU\"):\n",
    "        import Learn_Koopman_with_KlinearEig as lka\n",
    "    elif method.endswith(\"KoopmanAE\"):\n",
    "        import Learn_KoopmanAE_with_KlinearEig as lka\n",
    "    for file in os.listdir(root_path):\n",
    "        if file.startswith(method+\"_\"+env_name) and file.endswith(\".pth\"):\n",
    "            model_path = file  \n",
    "    Data_collect = data_collecter(env_name)\n",
    "    udim = Data_collect.udim\n",
    "    Nstates = Data_collect.Nstates\n",
    "    layer_depth = 3\n",
    "    layer_width = 128\n",
    "    dicts = torch.load(root_path+\"/\"+model_path,map_location=torch.device('cpu'))\n",
    "    state_dict = dicts[\"model\"]\n",
    "    if method.endswith(\"KNonlinear\"):\n",
    "        Elayer = dicts[\"Elayer\"]\n",
    "        net = lka.Network(layers=Elayer,u_dim=udim)\n",
    "    elif method.endswith(\"KNonlinearRNN\"):\n",
    "        net = lka.Network(input_size=udim+Nstates,output_size=Nstates,hidden_dim=layer_width, n_layers=layer_depth-1)\n",
    "    elif method.endswith(\"KoopmanNonlinear\") or method.endswith(\"KoopmanNonlinearA\"):\n",
    "        layer = dicts[\"layer\"]\n",
    "        blayer = dicts[\"blayer\"]\n",
    "        NKoopman = layer[-1]+Nstates\n",
    "        net = lka.Network(layer,blayer,NKoopman,udim)\n",
    "    elif method.endswith(\"KoopmanU\"):\n",
    "        layer = dicts[\"layer\"]\n",
    "        NKoopman = layer[-1]+Nstates\n",
    "        net = lka.Network(layer,NKoopman,udim)  \n",
    "    elif method.endswith(\"KoopmanAE\"):\n",
    "        layer = dicts[\"layer\"]\n",
    "        dlayer = dicts[\"dlayer\"]\n",
    "        NKoopman = layer[-1]\n",
    "        net = lka.Network(layer,dlayer,NKoopman,udim)  \n",
    "    net.load_state_dict(state_dict)\n",
    "    device = torch.device(\"cpu\")\n",
    "    # net.cuda()\n",
    "    net.double()\n",
    "    Samples = 5000\n",
    "    steps = 30\n",
    "    random.seed(2022)\n",
    "    np.random.seed(2022)\n",
    "    times = 4 \n",
    "    max_loss_all = np.zeros((times,steps))\n",
    "    mean_loss_all = np.zeros((times,steps))\n",
    "    with torch.no_grad():\n",
    "        for i in range(times):\n",
    "            test_data_path = \"../Data/{}{}.npy\".format(env_name,i)\n",
    "            if os.path.exists(test_data_path):\n",
    "                test_data = np.load(\"../Data/{}{}.npy\".format(env_name,i))\n",
    "            else:\n",
    "                test_data = Data_collect.collect_koopman_data(Samples,steps)\n",
    "                np.save(\"../Data/{}{}.npy\".format(env_name,i),test_data)\n",
    "            max_loss,mean_loss = lka.K_loss(test_data,net,udim,Nstate=Nstates)\n",
    "            max_loss_all[i] = max_loss.reshape(-1)\n",
    "            mean_loss_all[i] = mean_loss.reshape(-1)\n",
    "    max_mean = np.mean(max_loss_all,axis=0)\n",
    "    max_std = np.std(max_loss_all,axis=0)\n",
    "    mean_mean =  np.mean(mean_loss_all,axis=0)\n",
    "    mean_std =  np.std(mean_loss_all,axis=0)\n",
    "    np.save(\"../Prediction_Results/Compare/\"+env_name+\"_\"+method+\".npy\",np.array([max_mean,max_std,mean_mean,mean_std]))\n",
    "    return max_mean,max_std,mean_mean,mean_std"
   ]
  },
  {
   "cell_type": "code",
   "execution_count": 4,
   "metadata": {},
   "outputs": [
    {
     "name": "stdout",
     "output_type": "stream",
     "text": [
      "KNonlinearRNN\n"
     ]
    },
    {
     "name": "stderr",
     "output_type": "stream",
     "text": [
      "/mnt/d/github/DeepKoopmanWithControl/prediction/../utility/Utility.py:168: DeprecationWarning: scipy.linalg.pinv2 is deprecated since SciPy 1.7.0, use scipy.linalg.pinv instead\n",
      "  Minv = scipy.linalg.pinv2(M)\n"
     ]
    }
   ],
   "source": [
    "suffix = \"RNN\"\n",
    "# env_name = \"DampingPendulum\"\n",
    "# env_name = \"CartPole-v1\"\n",
    "# env_name = \"MountainCarContinuous-v0\"\n",
    "# env_name = \"Pendulum-v1\"\n",
    "# env_name = \"Franka\"\n",
    "# env_name = \"TwoLinkRobot\"\n",
    "# env_names = [\"DampingPendulum\",\"CartPole-v1\",\"MountainCarContinuous-v0\",\"Pendulum-v1\",\"Franka\",\"TwoLinkRobot\"]\n",
    "env_names = [\"TwoLinkRobot\"]\n",
    "for env_name in env_names:\n",
    "    eval_err(suffix,env_name,method_index=3)"
   ]
  },
  {
   "cell_type": "code",
   "execution_count": 5,
   "metadata": {},
   "outputs": [
    {
     "name": "stdout",
     "output_type": "stream",
     "text": [
      "KNonlinear\n",
      "KNonlinearRNN\n",
      "KoopmanU\n",
      "KoopmanNonlinearA\n",
      "KoopmanNonlinear\n"
     ]
    }
   ],
   "source": [
    "suffix = \"Reacher2_9\"\n",
    "env_name = \"Reacher-v2\"\n",
    "for i in range(5):\n",
    "    eval_err(suffix,env_name,method_index=i+2)"
   ]
  },
  {
   "cell_type": "code",
   "execution_count": null,
   "metadata": {},
   "outputs": [],
   "source": [
    "#Franka\n",
    "def eval_err(suffix,env_name,method_index):\n",
    "    # method_index = 0\n",
    "    method = Methods[method_index]\n",
    "    root_path = \"../Data/\"+suffix\n",
    "    print(method)\n",
    "    if method.endswith(\"KNonlinear\"):\n",
    "        import Learn_Knonlinear as lka\n",
    "    elif method.endswith(\"KNonlinearRNN\"):\n",
    "        import Learn_Knonlinear_RNN as lka\n",
    "    elif method.endswith(\"KoopmanNonlinear\"):\n",
    "        import Learn_KoopmanNonlinear_with_KlinearEig as lka\n",
    "    elif method.endswith(\"KoopmanNonlinearA\"):\n",
    "        import Learn_KoopmanNonlinearA_with_KlinearEig as lka\n",
    "    elif method.endswith(\"KoopmanU\"):\n",
    "        import Learn_Koopman_with_KlinearEig as lka\n",
    "    for file in os.listdir(root_path):\n",
    "        if file.startswith(method+\"_\") and file.endswith(\".pth\"):\n",
    "            model_path = file  \n",
    "    Data_collect = data_collecter(env_name)\n",
    "    udim = Data_collect.udim\n",
    "    Nstates = Data_collect.Nstates\n",
    "    layer_depth = 3\n",
    "    layer_width = 128\n",
    "    dicts = torch.load(root_path+\"/\"+model_path)\n",
    "    state_dict = dicts[\"model\"]\n",
    "    if method.endswith(\"KNonlinear\"):\n",
    "        Elayer = dicts[\"Elayer\"]\n",
    "        net = lka.Network(layers=Elayer,u_dim=udim)\n",
    "    elif method.endswith(\"KNonlinearRNN\"):\n",
    "        net = lka.Network(input_size=udim+Nstates,output_size=Nstates,hidden_dim=layer_width, n_layers=layer_depth-1)\n",
    "    elif method.endswith(\"KoopmanNonlinear\") or method.endswith(\"KoopmanNonlinearA\"):\n",
    "        layer = dicts[\"layer\"]\n",
    "        blayer = dicts[\"blayer\"]\n",
    "        NKoopman = layer[-1]+Nstates\n",
    "        net = lka.Network(layer,blayer,NKoopman,udim)\n",
    "    elif method.endswith(\"KoopmanU\"):\n",
    "        layer = dicts[\"layer\"]\n",
    "        NKoopman = layer[-1]+Nstates\n",
    "        net = lka.Network(layer,NKoopman,udim)  \n",
    "    net.load_state_dict(state_dict)\n",
    "    device = torch.device(\"cpu\")\n",
    "    net.cuda()\n",
    "    net.double()\n",
    "    Samples = 5000\n",
    "    steps = 30\n",
    "    random.seed(2022)\n",
    "    np.random.seed(2022)\n",
    "    times = 4 \n",
    "    max_loss_all = np.zeros((times,steps))\n",
    "    mean_loss_all = np.zeros((times,steps))\n",
    "    with torch.no_grad():\n",
    "        for i in range(times):\n",
    "            test_data = np.load(\"../Data/Franka{}.npy\".format(i))\n",
    "            max_loss,mean_loss = lka.K_loss(test_data,net,udim,Nstate=Nstates)\n",
    "            max_loss_all[i] = max_loss.reshape(-1)\n",
    "            mean_loss_all[i] = mean_loss.reshape(-1)\n",
    "    max_mean = np.mean(max_loss_all,axis=0)\n",
    "    max_std = np.std(max_loss_all,axis=0)\n",
    "    mean_mean =  np.mean(mean_loss_all,axis=0)\n",
    "    mean_std =  np.std(mean_loss_all,axis=0)\n",
    "    np.save(\"Prediction_Results/\"+env_name+\"_\"+method+\".npy\",np.array([max_mean,max_std,mean_mean,mean_std]))\n",
    "    return max_mean,max_std,mean_mean,mean_std"
   ]
  },
  {
   "cell_type": "code",
   "execution_count": null,
   "metadata": {},
   "outputs": [],
   "source": [
    "env_name = \"Franka\"\n",
    "Data_collect = data_collecter(env_name)\n",
    "Samples = 5000\n",
    "steps = 30\n",
    "random.seed(2022)\n",
    "np.random.seed(2022)\n",
    "times = 4 \n",
    "max_loss_all = np.zeros((times,steps))\n",
    "mean_loss_all = np.zeros((times,steps))\n",
    "with torch.no_grad():\n",
    "    for i in range(times):\n",
    "        test_data = Data_collect.collect_koopman_data(Samples,steps)\n",
    "        np.save(\"../Data/Franka{}.npy\".format(i),test_data)"
   ]
  },
  {
   "cell_type": "code",
   "execution_count": 7,
   "metadata": {},
   "outputs": [
    {
     "data": {
      "image/png": "[encoded data removed]",
      "text/plain": [
       "<Figure size 432x288 with 1 Axes>"
      ]
     },
     "metadata": {
      "needs_background": "light"
     },
     "output_type": "display_data"
    }
   ],
   "source": [
    "colors = ['#1f77b4', '#ff7f0e', '#2ca02c', '#d62728', '#9467bd', '#8c564b', '#e377c2', '#7f7f7f', '#bcbd22', '#17becf']\n",
    "font = {'size'   : 12}\n",
    "\n",
    "plt.rc('font', **font)\n",
    "# markers = ['*','+','*','+','*','+','*']\n",
    "# env_name = \"DampingPendulum\"\n",
    "# env_name = \"CartPole-v1\"\n",
    "# env_name = \"MountainCarContinuous-v0\"\n",
    "env_name = \"Pendulum-v1\"\n",
    "# env_name = \"Franka\"\n",
    "# env_name = \"DoublePendulum\"\n",
    "title = env_name\n",
    "compare = \"max\"\n",
    "# compare = \"mean\"\n",
    "for i in range(7):\n",
    "    index = i\n",
    "    method = Methods[index]\n",
    "    file_path = \"../Prediction_Results/Compare/\"+env_name+\"_\"+method+\".npy\"\n",
    "    data = np.load(file_path)\n",
    "    # print(data.shape)\n",
    "    if compare.startswith(\"max\"):\n",
    "        plt.plot(np.log10(data[0]),'*-',color = colors[index],label=Method_names[i],linewidth=1.5)\n",
    "    else:\n",
    "        plt.plot(np.log10(data[2]),'*-',color = colors[index],label=method)\n",
    "plt.legend()\n",
    "# plt.grid(linestyle='-.')\n",
    "plt.xlabel(\"Steps\",fontsize=12)\n",
    "plt.ylabel(\"Log Err\",fontsize=12)\n",
    "plt.title(title,fontsize=15)\n",
    "plt.savefig(\"../Prediction_Results/Prediction/\"+env_name+\"_\"+compare+\"_new1.png\",dpi=300)"
   ]
  }
 ],
 "metadata": {
  "interpreter": {
   "hash": "a4d06311c44a4bca643a5b6bd1fed619513a1bbcc6119049a755b6c84aad7bef"
  },
  "kernelspec": {
   "display_name": "Python 3",
   "language": "python",
   "name": "python3"
  },
  "language_info": {
   "codemirror_mode": {
    "name": "ipython",
    "version": 3
   },
   "file_extension": ".py",
   "mimetype": "text/x-python",
   "name": "python",
   "nbconvert_exporter": "python",
   "pygments_lexer": "ipython3",
   "version": "3.8.12"
  }
 },
 "nbformat": 4,
 "nbformat_minor": 4
}
