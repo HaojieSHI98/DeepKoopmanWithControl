{
 "cells": [
  {
   "cell_type": "code",
   "execution_count": 1,
   "metadata": {},
   "outputs": [],
   "source": [
    "import numpy as np\n",
    "import random\n",
    "import scipy.linalg\n",
    "import gym\n",
    "import sys\n",
    "import os\n",
    "sys.path.append(\"../utility\")\n",
    "sys.path.append(\"../train\")\n",
    "from Utility import DerivativeLiftFunc, data_collecter,RBFLiftFunc"
   ]
  },
  {
   "cell_type": "code",
   "execution_count": 2,
   "metadata": {},
   "outputs": [],
   "source": [
    "ENV = [\"DampingPendulum\",\"Pendulum-v1\",\"CartPole-v1\",\"MountainCarContinuous-v0\",\"Franka\",\"DoublePendulum\"]"
   ]
  },
  {
   "cell_type": "code",
   "execution_count": 3,
   "metadata": {},
   "outputs": [],
   "source": [
    "def evalKoopmanD(env_index,sample):\n",
    "    env_name = ENV[env_index]\n",
    "    print(env_name)\n",
    "    random.seed(1)\n",
    "    np.random.seed(1)\n",
    "    Data_collecter = data_collecter(env_name)\n",
    "    Nstate = Data_collecter.Nstates\n",
    "    udim = Data_collecter.udim\n",
    "    Nrbf = 50\n",
    "    LiftFunc = RBFLiftFunc(env_name,Nstate,udim,Nrbf,Data_collecter.observation_space)\n",
    "    NKoopman = LiftFunc.NKoopman\n",
    "    test_Samples = 5000\n",
    "    Steps = 30\n",
    "    train_data = Data_collecter.collect_koopman_data(sample*15,1)\n",
    "    X_lift = LiftFunc.Psi_su(train_data[0,:,udim:],train_data[0,:,:udim])\n",
    "    Y_lift = LiftFunc.Psi_su(train_data[1,:,udim:],train_data[0,:,:udim])\n",
    "    XX = np.dot(X_lift.T,X_lift)\n",
    "    XY = np.dot(X_lift.T,Y_lift)\n",
    "    Kd = np.dot(scipy.linalg.pinv2(XX),XY).T  \n",
    "    np.savez(\"../Prediction_Results/Samples/\"+\"Kd_\"+env_name+\"_KoopmanRBFsamples{}\".format(sample)+\".npz\",Kd=Kd,Center=LiftFunc.center)  \n",
    "    times = 4 \n",
    "    max_loss_all = np.zeros((times,Steps))\n",
    "    mean_loss_all = np.zeros((times,Steps))\n",
    "    for t in range(times):\n",
    "        test_data_path = \"../Data/{}{}.npy\".format(env_name,t)\n",
    "        if os.path.exists(test_data_path):\n",
    "            test_data = np.load(\"../Data/{}{}.npy\".format(env_name,t))\n",
    "        else:\n",
    "            test_data = Data_collecter.collect_koopman_data(test_Samples,Steps)\n",
    "            np.save(\"../Data/{}{}.npy\".format(env_name,i),test_data)\n",
    "        X_current = test_data[0,:,:]\n",
    "        X_current_lift = np.zeros((test_Samples,NKoopman+udim))\n",
    "        maxloss_list = []\n",
    "        meanloss_list = []\n",
    "        for i in range(test_Samples):\n",
    "            X_current_lift[i] = LiftFunc.Psi_su(X_current[i,udim:],X_current[i,:udim])\n",
    "        for i in range(Steps):\n",
    "            X_current_lift = np.dot(X_current_lift,Kd.T)\n",
    "            X_current_lift[:,NKoopman:] = test_data[i+1,:,:udim]\n",
    "            Err = X_current_lift[:,:Nstate] - test_data[i+1,:,udim:]\n",
    "            maxloss = np.mean(np.max(abs(Err),axis=0))\n",
    "            meanloss = np.mean(np.mean(abs(Err),axis=0))\n",
    "            maxloss_list.append(maxloss)\n",
    "            meanloss_list.append(meanloss)\n",
    "        max_loss_all[t] = np.array(maxloss_list).reshape(-1)\n",
    "        mean_loss_all[t] = np.array(meanloss_list).reshape(-1)\n",
    "    max_mean = np.mean(max_loss_all,axis=0)\n",
    "    max_std = np.std(max_loss_all,axis=0)\n",
    "    mean_mean =  np.mean(mean_loss_all,axis=0)\n",
    "    mean_std =  np.std(mean_loss_all,axis=0)  \n",
    "    np.save(\"../Prediction_Results/Samples/\"+env_name+\"_KoopmanRBFsamples{}\".format(sample)+\".npy\",np.array([max_mean,max_std,mean_mean,mean_std]))\n",
    "    return max_mean,max_std,mean_mean,mean_std "
   ]
  },
  {
   "cell_type": "code",
   "execution_count": 4,
   "metadata": {},
   "outputs": [
    {
     "name": "stdout",
     "output_type": "stream",
     "text": [
      "DampingPendulum\n"
     ]
    },
    {
     "name": "stderr",
     "output_type": "stream",
     "text": [
      "/tmp/ipykernel_694/4154988247.py:19: DeprecationWarning: scipy.linalg.pinv2 is deprecated since SciPy 1.7.0, use scipy.linalg.pinv instead\n",
      "  Kd = np.dot(scipy.linalg.pinv2(XX),XY).T\n"
     ]
    }
   ],
   "source": [
    "for sample in [200]:\n",
    "     evalKoopmanD(0,sample)"
   ]
  }
 ],
 "metadata": {
  "interpreter": {
   "hash": "a4d06311c44a4bca643a5b6bd1fed619513a1bbcc6119049a755b6c84aad7bef"
  },
  "kernelspec": {
   "display_name": "Python 3.7.12 64-bit ('mujoco': conda)",
   "language": "python",
   "name": "python3"
  },
  "language_info": {
   "codemirror_mode": {
    "name": "ipython",
    "version": 3
   },
   "file_extension": ".py",
   "mimetype": "text/x-python",
   "name": "python",
   "nbconvert_exporter": "python",
   "pygments_lexer": "ipython3",
   "version": "3.8.12"
  },
  "orig_nbformat": 4
 },
 "nbformat": 4,
 "nbformat_minor": 2
}
