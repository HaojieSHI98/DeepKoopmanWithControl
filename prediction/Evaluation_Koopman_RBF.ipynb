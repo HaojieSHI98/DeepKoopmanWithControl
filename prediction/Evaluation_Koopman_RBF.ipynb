{
 "cells": [
  {
   "cell_type": "code",
   "execution_count": 3,
   "metadata": {},
   "outputs": [
    {
     "name": "stderr",
     "output_type": "stream",
     "text": [
      "/home/stone/anaconda3/envs/mujoco/lib/python3.7/site-packages/ale_py/roms/utils.py:90: DeprecationWarning: SelectableGroups dict interface is deprecated. Use select.\n",
      "  for external in metadata.entry_points().get(self.group, []):\n"
     ]
    }
   ],
   "source": [
    "import numpy as np\n",
    "import random\n",
    "import scipy.linalg\n",
    "import gym\n",
    "from Utility import DerivativeLiftFunc, data_collecter,RBFLiftFunc"
   ]
  },
  {
   "cell_type": "code",
   "execution_count": 4,
   "metadata": {},
   "outputs": [],
   "source": [
    "ENV = [\"DampingPendulum\",\"Pendulum-v1\",\"CartPole-v1\",\"MountainCarContinuous-v0\",\"Reacher-v2\",\"Franka\"]"
   ]
  },
  {
   "cell_type": "code",
   "execution_count": 7,
   "metadata": {},
   "outputs": [],
   "source": [
    "def evalKoopmanD(env_index):\n",
    "    env_name = ENV[env_index]\n",
    "    print(env_name)\n",
    "    random.seed(1)\n",
    "    np.random.seed(1)\n",
    "    Data_collecter = data_collecter(env_name)\n",
    "    Nstate = Data_collecter.Nstates\n",
    "    udim = Data_collecter.udim\n",
    "    Nrbf = 50\n",
    "    LiftFunc = RBFLiftFunc(env_name,Nstate,udim,Nrbf,Data_collecter.observation_space)\n",
    "    NKoopman = LiftFunc.NKoopman\n",
    "    Samples = 5000\n",
    "    Steps = 30\n",
    "    train_data = Data_collecter.collect_koopman_data(20000,1)\n",
    "    X_lift = LiftFunc.Psi_su(train_data[0,:,udim:],train_data[0,:,:udim])\n",
    "    Y_lift = LiftFunc.Psi_su(train_data[1,:,udim:],train_data[0,:,:udim])\n",
    "    XX = np.dot(X_lift.T,X_lift)\n",
    "    XY = np.dot(X_lift.T,Y_lift)\n",
    "    Kd = np.dot(scipy.linalg.pinv2(XX),XY).T  \n",
    "    np.savez(\"Prediction_Results/\"+\"Kd_\"+env_name+\"_KoopmanRBF\"+\".npz\",Kd=Kd,Center=LiftFunc.center)  \n",
    "    times = 4 \n",
    "    max_loss_all = np.zeros((times,Steps))\n",
    "    mean_loss_all = np.zeros((times,Steps))\n",
    "    for t in range(times):\n",
    "        test_data = Data_collecter.collect_koopman_data(Samples,Steps)\n",
    "        X_current = test_data[0,:,:]\n",
    "        X_current_lift = np.zeros((Samples,NKoopman+udim))\n",
    "        maxloss_list = []\n",
    "        meanloss_list = []\n",
    "        for i in range(Samples):\n",
    "            X_current_lift[i] = LiftFunc.Psi_su(X_current[i,udim:],X_current[i,:udim])\n",
    "        for i in range(Steps):\n",
    "            X_current_lift = np.dot(X_current_lift,Kd.T)\n",
    "            X_current_lift[:,NKoopman:] = test_data[i+1,:,:udim]\n",
    "            Err = X_current_lift[:,:Nstate] - test_data[i+1,:,udim:]\n",
    "            maxloss = np.mean(np.max(abs(Err),axis=0))\n",
    "            meanloss = np.mean(np.mean(abs(Err),axis=0))\n",
    "            maxloss_list.append(maxloss)\n",
    "            meanloss_list.append(meanloss)\n",
    "        max_loss_all[t] = np.array(maxloss_list).reshape(-1)\n",
    "        mean_loss_all[t] = np.array(meanloss_list).reshape(-1)\n",
    "    max_mean = np.mean(max_loss_all,axis=0)\n",
    "    max_std = np.std(max_loss_all,axis=0)\n",
    "    mean_mean =  np.mean(mean_loss_all,axis=0)\n",
    "    mean_std =  np.std(mean_loss_all,axis=0)  \n",
    "    np.save(\"Prediction_Results/\"+env_name+\"_KoopmanRBF\"+\".npy\",np.array([max_mean,max_std,mean_mean,mean_std]))\n",
    "    return max_mean,max_std,mean_mean,mean_std "
   ]
  },
  {
   "cell_type": "code",
   "execution_count": 9,
   "metadata": {},
   "outputs": [
    {
     "name": "stdout",
     "output_type": "stream",
     "text": [
      "DampingPendulum\n"
     ]
    },
    {
     "name": "stderr",
     "output_type": "stream",
     "text": [
      "/home/stone/anaconda3/envs/mujoco/lib/python3.7/site-packages/ipykernel_launcher.py:19: DeprecationWarning: scipy.linalg.pinv2 is deprecated since SciPy 1.7.0, use scipy.linalg.pinv instead\n"
     ]
    },
    {
     "name": "stdout",
     "output_type": "stream",
     "text": [
      "Pendulum-v1\n",
      "CartPole-v1\n",
      "MountainCarContinuous-v0\n",
      "Reacher-v2\n",
      "Franka\n"
     ]
    }
   ],
   "source": [
    "for j in range(6):\n",
    "    evalKoopmanD(j)"
   ]
  },
  {
   "cell_type": "code",
   "execution_count": 19,
   "metadata": {},
   "outputs": [],
   "source": [
    "def evalKoopmanDMax(env_index):\n",
    "    env_name = ENV[env_index]\n",
    "    print(env_name)\n",
    "    Data_collecter = data_collecter(env_name)\n",
    "    Nstate = Data_collecter.Nstates\n",
    "    udim = Data_collecter.udim\n",
    "    Nrbf = 100\n",
    "    LiftFunc = RBFLiftFunc(env_name,Nstate,udim,Nrbf,Data_collecter.observation_space)\n",
    "    NKoopman = LiftFunc.NKoopman\n",
    "    Samples = 20000\n",
    "    Steps = 30\n",
    "    train_data = Data_collecter.collect_koopman_data(20000,1)\n",
    "    X_lift = LiftFunc.Psi_su(train_data[0,:,udim:],train_data[0,:,:udim])\n",
    "    Y_lift = LiftFunc.Psi_su(train_data[1,:,udim:],train_data[0,:,:udim])\n",
    "    XX = np.dot(X_lift.T,X_lift)\n",
    "    XY = np.dot(X_lift.T,Y_lift)\n",
    "    Kd = np.dot(scipy.linalg.pinv2(XX),XY).T    \n",
    "    random.seed(2022)\n",
    "    np.random.seed(2022)\n",
    "    test_data = Data_collecter.collect_koopman_data(Samples,Steps)\n",
    "    X_current = test_data[0,:,:]\n",
    "    X_current_lift = np.zeros((Samples,NKoopman+udim))\n",
    "    maxloss_list = []\n",
    "    meanloss_list = []\n",
    "    for i in range(Samples):\n",
    "        X_current_lift[i] = LiftFunc.Psi_su(X_current[i,udim:],X_current[i,:udim])\n",
    "    for i in range(Steps):\n",
    "        X_current_lift = np.dot(X_current_lift,Kd.T)\n",
    "        X_current_lift[:,NKoopman:] = test_data[i+1,:,:udim]\n",
    "        Err = X_current_lift[:,:Nstate] - test_data[i+1,:,udim:]\n",
    "        maxloss = np.max(abs(Err),axis=0)\n",
    "        meanloss = np.mean(abs(Err),axis=0)\n",
    "        maxloss_list.append(maxloss)\n",
    "        meanloss_list.append(meanloss)\n",
    "    max_loss_all = np.array(maxloss_list).reshape(Steps,Nstate)\n",
    "    mean_loss_all = np.array(meanloss_list).reshape(Steps,Nstate)\n",
    "    np.save(\"Prediction_ResultsMax/\"+env_name+\"_KoopmanRBF\"+\".npy\",np.array([max_loss_all,mean_loss_all]))\n",
    "    return max_loss_all,mean_loss_all"
   ]
  },
  {
   "cell_type": "code",
   "execution_count": 21,
   "metadata": {},
   "outputs": [
    {
     "name": "stdout",
     "output_type": "stream",
     "text": [
      "DampingPendulum\n"
     ]
    },
    {
     "name": "stderr",
     "output_type": "stream",
     "text": [
      "/home/stone/anaconda3/envs/mujoco/lib/python3.7/site-packages/ipykernel_launcher.py:17: DeprecationWarning: scipy.linalg.pinv2 is deprecated since SciPy 1.7.0, use scipy.linalg.pinv instead\n"
     ]
    }
   ],
   "source": [
    "max_loss_all,mean_loss_all =  evalKoopmanDMax(0)"
   ]
  },
  {
   "cell_type": "code",
   "execution_count": 23,
   "metadata": {},
   "outputs": [
    {
     "data": {
      "image/png": "[encoded data removed]",
      "text/plain": [
       "<Figure size 432x288 with 1 Axes>"
      ]
     },
     "metadata": {
      "needs_background": "light"
     },
     "output_type": "display_data"
    },
    {
     "data": {
      "image/png": "[encoded data removed]",
      "text/plain": [
       "<Figure size 432x288 with 1 Axes>"
      ]
     },
     "metadata": {
      "needs_background": "light"
     },
     "output_type": "display_data"
    }
   ],
   "source": [
    "import matplotlib.pylab as plt\n",
    "plt.plot(max_loss_all[:,0])\n",
    "plt.show()\n",
    "plt.plot(max_loss_all[:,1])\n",
    "plt.show()"
   ]
  },
  {
   "cell_type": "code",
   "execution_count": 20,
   "metadata": {},
   "outputs": [
    {
     "name": "stdout",
     "output_type": "stream",
     "text": [
      "DampingPendulum\n"
     ]
    },
    {
     "name": "stderr",
     "output_type": "stream",
     "text": [
      "/home/stone/anaconda3/envs/mujoco/lib/python3.7/site-packages/ipykernel_launcher.py:17: DeprecationWarning: scipy.linalg.pinv2 is deprecated since SciPy 1.7.0, use scipy.linalg.pinv instead\n"
     ]
    },
    {
     "ename": "KeyboardInterrupt",
     "evalue": "",
     "output_type": "error",
     "traceback": [
      "\u001b[0;31m---------------------------------------------------------------------------\u001b[0m",
      "\u001b[0;31mKeyboardInterrupt\u001b[0m                         Traceback (most recent call last)",
      "\u001b[0;32m/tmp/ipykernel_26422/4024917196.py\u001b[0m in \u001b[0;36m<module>\u001b[0;34m\u001b[0m\n\u001b[1;32m      1\u001b[0m \u001b[0;32mfor\u001b[0m \u001b[0mj\u001b[0m \u001b[0;32min\u001b[0m \u001b[0mrange\u001b[0m\u001b[0;34m(\u001b[0m\u001b[0;36m4\u001b[0m\u001b[0;34m)\u001b[0m\u001b[0;34m:\u001b[0m\u001b[0;34m\u001b[0m\u001b[0;34m\u001b[0m\u001b[0m\n\u001b[0;32m----> 2\u001b[0;31m     \u001b[0mevalKoopmanDMax\u001b[0m\u001b[0;34m(\u001b[0m\u001b[0mj\u001b[0m\u001b[0;34m)\u001b[0m\u001b[0;34m\u001b[0m\u001b[0;34m\u001b[0m\u001b[0m\n\u001b[0m",
      "\u001b[0;32m/tmp/ipykernel_26422/2023853797.py\u001b[0m in \u001b[0;36mevalKoopmanDMax\u001b[0;34m(env_index)\u001b[0m\n\u001b[1;32m     18\u001b[0m     \u001b[0mrandom\u001b[0m\u001b[0;34m.\u001b[0m\u001b[0mseed\u001b[0m\u001b[0;34m(\u001b[0m\u001b[0;36m2022\u001b[0m\u001b[0;34m)\u001b[0m\u001b[0;34m\u001b[0m\u001b[0;34m\u001b[0m\u001b[0m\n\u001b[1;32m     19\u001b[0m     \u001b[0mnp\u001b[0m\u001b[0;34m.\u001b[0m\u001b[0mrandom\u001b[0m\u001b[0;34m.\u001b[0m\u001b[0mseed\u001b[0m\u001b[0;34m(\u001b[0m\u001b[0;36m2022\u001b[0m\u001b[0;34m)\u001b[0m\u001b[0;34m\u001b[0m\u001b[0;34m\u001b[0m\u001b[0m\n\u001b[0;32m---> 20\u001b[0;31m     \u001b[0mtest_data\u001b[0m \u001b[0;34m=\u001b[0m \u001b[0mData_collecter\u001b[0m\u001b[0;34m.\u001b[0m\u001b[0mcollect_koopman_data\u001b[0m\u001b[0;34m(\u001b[0m\u001b[0mSamples\u001b[0m\u001b[0;34m,\u001b[0m\u001b[0mSteps\u001b[0m\u001b[0;34m)\u001b[0m\u001b[0;34m\u001b[0m\u001b[0;34m\u001b[0m\u001b[0m\n\u001b[0m\u001b[1;32m     21\u001b[0m     \u001b[0mX_current\u001b[0m \u001b[0;34m=\u001b[0m \u001b[0mtest_data\u001b[0m\u001b[0;34m[\u001b[0m\u001b[0;36m0\u001b[0m\u001b[0;34m,\u001b[0m\u001b[0;34m:\u001b[0m\u001b[0;34m,\u001b[0m\u001b[0;34m:\u001b[0m\u001b[0;34m]\u001b[0m\u001b[0;34m\u001b[0m\u001b[0;34m\u001b[0m\u001b[0m\n\u001b[1;32m     22\u001b[0m     \u001b[0mX_current_lift\u001b[0m \u001b[0;34m=\u001b[0m \u001b[0mnp\u001b[0m\u001b[0;34m.\u001b[0m\u001b[0mzeros\u001b[0m\u001b[0;34m(\u001b[0m\u001b[0;34m(\u001b[0m\u001b[0mSamples\u001b[0m\u001b[0;34m,\u001b[0m\u001b[0mNKoopman\u001b[0m\u001b[0;34m+\u001b[0m\u001b[0mudim\u001b[0m\u001b[0;34m)\u001b[0m\u001b[0;34m)\u001b[0m\u001b[0;34m\u001b[0m\u001b[0;34m\u001b[0m\u001b[0m\n",
      "\u001b[0;32m~/Documents/Koopman/DeepKoopmanRA-L/Utility.py\u001b[0m in \u001b[0;36mcollect_koopman_data\u001b[0;34m(self, traj_num, steps)\u001b[0m\n\u001b[1;32m    233\u001b[0m                 \u001b[0mtrain_data\u001b[0m\u001b[0;34m[\u001b[0m\u001b[0;36m0\u001b[0m\u001b[0;34m,\u001b[0m\u001b[0mtraj_i\u001b[0m\u001b[0;34m,\u001b[0m\u001b[0;34m:\u001b[0m\u001b[0;34m]\u001b[0m\u001b[0;34m=\u001b[0m\u001b[0mnp\u001b[0m\u001b[0;34m.\u001b[0m\u001b[0mconcatenate\u001b[0m\u001b[0;34m(\u001b[0m\u001b[0;34m[\u001b[0m\u001b[0mu10\u001b[0m\u001b[0;34m.\u001b[0m\u001b[0mreshape\u001b[0m\u001b[0;34m(\u001b[0m\u001b[0;34m-\u001b[0m\u001b[0;36m1\u001b[0m\u001b[0;34m)\u001b[0m\u001b[0;34m,\u001b[0m\u001b[0ms0\u001b[0m\u001b[0;34m.\u001b[0m\u001b[0mreshape\u001b[0m\u001b[0;34m(\u001b[0m\u001b[0;34m-\u001b[0m\u001b[0;36m1\u001b[0m\u001b[0;34m)\u001b[0m\u001b[0;34m]\u001b[0m\u001b[0;34m,\u001b[0m\u001b[0maxis\u001b[0m\u001b[0;34m=\u001b[0m\u001b[0;36m0\u001b[0m\u001b[0;34m)\u001b[0m\u001b[0;34m.\u001b[0m\u001b[0mreshape\u001b[0m\u001b[0;34m(\u001b[0m\u001b[0;34m-\u001b[0m\u001b[0;36m1\u001b[0m\u001b[0;34m)\u001b[0m\u001b[0;34m\u001b[0m\u001b[0;34m\u001b[0m\u001b[0m\n\u001b[1;32m    234\u001b[0m                 \u001b[0;32mfor\u001b[0m \u001b[0mi\u001b[0m \u001b[0;32min\u001b[0m \u001b[0mrange\u001b[0m\u001b[0;34m(\u001b[0m\u001b[0;36m1\u001b[0m\u001b[0;34m,\u001b[0m\u001b[0msteps\u001b[0m\u001b[0;34m+\u001b[0m\u001b[0;36m1\u001b[0m\u001b[0;34m)\u001b[0m\u001b[0;34m:\u001b[0m\u001b[0;34m\u001b[0m\u001b[0;34m\u001b[0m\u001b[0m\n\u001b[0;32m--> 235\u001b[0;31m                     \u001b[0ms0\u001b[0m\u001b[0;34m,\u001b[0m\u001b[0mr\u001b[0m\u001b[0;34m,\u001b[0m\u001b[0mdone\u001b[0m\u001b[0;34m,\u001b[0m\u001b[0m_\u001b[0m \u001b[0;34m=\u001b[0m \u001b[0mself\u001b[0m\u001b[0;34m.\u001b[0m\u001b[0menv\u001b[0m\u001b[0;34m.\u001b[0m\u001b[0mstep\u001b[0m\u001b[0;34m(\u001b[0m\u001b[0mu10\u001b[0m\u001b[0;34m)\u001b[0m\u001b[0;34m\u001b[0m\u001b[0;34m\u001b[0m\u001b[0m\n\u001b[0m\u001b[1;32m    236\u001b[0m                     \u001b[0mu10\u001b[0m \u001b[0;34m=\u001b[0m \u001b[0mnp\u001b[0m\u001b[0;34m.\u001b[0m\u001b[0mrandom\u001b[0m\u001b[0;34m.\u001b[0m\u001b[0muniform\u001b[0m\u001b[0;34m(\u001b[0m\u001b[0mself\u001b[0m\u001b[0;34m.\u001b[0m\u001b[0mumin\u001b[0m\u001b[0;34m,\u001b[0m \u001b[0mself\u001b[0m\u001b[0;34m.\u001b[0m\u001b[0mumax\u001b[0m\u001b[0;34m)\u001b[0m\u001b[0;34m\u001b[0m\u001b[0;34m\u001b[0m\u001b[0m\n\u001b[1;32m    237\u001b[0m                     \u001b[0mtrain_data\u001b[0m\u001b[0;34m[\u001b[0m\u001b[0mi\u001b[0m\u001b[0;34m,\u001b[0m\u001b[0mtraj_i\u001b[0m\u001b[0;34m,\u001b[0m\u001b[0;34m:\u001b[0m\u001b[0;34m]\u001b[0m\u001b[0;34m=\u001b[0m\u001b[0mnp\u001b[0m\u001b[0;34m.\u001b[0m\u001b[0mconcatenate\u001b[0m\u001b[0;34m(\u001b[0m\u001b[0;34m[\u001b[0m\u001b[0mu10\u001b[0m\u001b[0;34m.\u001b[0m\u001b[0mreshape\u001b[0m\u001b[0;34m(\u001b[0m\u001b[0;34m-\u001b[0m\u001b[0;36m1\u001b[0m\u001b[0;34m)\u001b[0m\u001b[0;34m,\u001b[0m\u001b[0ms0\u001b[0m\u001b[0;34m.\u001b[0m\u001b[0mreshape\u001b[0m\u001b[0;34m(\u001b[0m\u001b[0;34m-\u001b[0m\u001b[0;36m1\u001b[0m\u001b[0;34m)\u001b[0m\u001b[0;34m]\u001b[0m\u001b[0;34m,\u001b[0m\u001b[0maxis\u001b[0m\u001b[0;34m=\u001b[0m\u001b[0;36m0\u001b[0m\u001b[0;34m)\u001b[0m\u001b[0;34m.\u001b[0m\u001b[0mreshape\u001b[0m\u001b[0;34m(\u001b[0m\u001b[0;34m-\u001b[0m\u001b[0;36m1\u001b[0m\u001b[0;34m)\u001b[0m\u001b[0;34m\u001b[0m\u001b[0;34m\u001b[0m\u001b[0m\n",
      "\u001b[0;32m~/Documents/Koopman/DeepKoopmanRA-L/Utility.py\u001b[0m in \u001b[0;36mstep\u001b[0;34m(self, u)\u001b[0m\n\u001b[1;32m    137\u001b[0m \u001b[0;34m\u001b[0m\u001b[0m\n\u001b[1;32m    138\u001b[0m     \u001b[0;32mdef\u001b[0m \u001b[0mstep\u001b[0m\u001b[0;34m(\u001b[0m\u001b[0mself\u001b[0m\u001b[0;34m,\u001b[0m\u001b[0mu\u001b[0m\u001b[0;34m)\u001b[0m\u001b[0;34m:\u001b[0m\u001b[0;34m\u001b[0m\u001b[0;34m\u001b[0m\u001b[0m\n\u001b[0;32m--> 139\u001b[0;31m         \u001b[0msn\u001b[0m \u001b[0;34m=\u001b[0m \u001b[0modeint\u001b[0m\u001b[0;34m(\u001b[0m\u001b[0mself\u001b[0m\u001b[0;34m.\u001b[0m\u001b[0msingle_pendulum\u001b[0m\u001b[0;34m,\u001b[0m \u001b[0mself\u001b[0m\u001b[0;34m.\u001b[0m\u001b[0ms0\u001b[0m\u001b[0;34m,\u001b[0m \u001b[0;34m[\u001b[0m\u001b[0;36m0\u001b[0m\u001b[0;34m,\u001b[0m \u001b[0mself\u001b[0m\u001b[0;34m.\u001b[0m\u001b[0mdt\u001b[0m\u001b[0;34m]\u001b[0m\u001b[0;34m,\u001b[0m \u001b[0margs\u001b[0m\u001b[0;34m=\u001b[0m\u001b[0;34m(\u001b[0m\u001b[0mu\u001b[0m\u001b[0;34m[\u001b[0m\u001b[0;36m0\u001b[0m\u001b[0;34m]\u001b[0m\u001b[0;34m,\u001b[0m\u001b[0;34m)\u001b[0m\u001b[0;34m)\u001b[0m\u001b[0;34m\u001b[0m\u001b[0;34m\u001b[0m\u001b[0m\n\u001b[0m\u001b[1;32m    140\u001b[0m         \u001b[0mself\u001b[0m\u001b[0;34m.\u001b[0m\u001b[0ms0\u001b[0m  \u001b[0;34m=\u001b[0m \u001b[0msn\u001b[0m\u001b[0;34m[\u001b[0m\u001b[0;34m-\u001b[0m\u001b[0;36m1\u001b[0m\u001b[0;34m,\u001b[0m\u001b[0;34m:\u001b[0m\u001b[0;34m]\u001b[0m\u001b[0;34m\u001b[0m\u001b[0;34m\u001b[0m\u001b[0m\n\u001b[1;32m    141\u001b[0m         \u001b[0mr\u001b[0m \u001b[0;34m=\u001b[0m\u001b[0;36m0\u001b[0m\u001b[0;34m\u001b[0m\u001b[0;34m\u001b[0m\u001b[0m\n",
      "\u001b[0;32m~/anaconda3/envs/mujoco/lib/python3.7/site-packages/scipy/integrate/odepack.py\u001b[0m in \u001b[0;36modeint\u001b[0;34m(func, y0, t, args, Dfun, col_deriv, full_output, ml, mu, rtol, atol, tcrit, h0, hmax, hmin, ixpr, mxstep, mxhnil, mxordn, mxords, printmessg, tfirst)\u001b[0m\n\u001b[1;32m    242\u001b[0m                              \u001b[0mfull_output\u001b[0m\u001b[0;34m,\u001b[0m \u001b[0mrtol\u001b[0m\u001b[0;34m,\u001b[0m \u001b[0matol\u001b[0m\u001b[0;34m,\u001b[0m \u001b[0mtcrit\u001b[0m\u001b[0;34m,\u001b[0m \u001b[0mh0\u001b[0m\u001b[0;34m,\u001b[0m \u001b[0mhmax\u001b[0m\u001b[0;34m,\u001b[0m \u001b[0mhmin\u001b[0m\u001b[0;34m,\u001b[0m\u001b[0;34m\u001b[0m\u001b[0;34m\u001b[0m\u001b[0m\n\u001b[1;32m    243\u001b[0m                              \u001b[0mixpr\u001b[0m\u001b[0;34m,\u001b[0m \u001b[0mmxstep\u001b[0m\u001b[0;34m,\u001b[0m \u001b[0mmxhnil\u001b[0m\u001b[0;34m,\u001b[0m \u001b[0mmxordn\u001b[0m\u001b[0;34m,\u001b[0m \u001b[0mmxords\u001b[0m\u001b[0;34m,\u001b[0m\u001b[0;34m\u001b[0m\u001b[0;34m\u001b[0m\u001b[0m\n\u001b[0;32m--> 244\u001b[0;31m                              int(bool(tfirst)))\n\u001b[0m\u001b[1;32m    245\u001b[0m     \u001b[0;32mif\u001b[0m \u001b[0moutput\u001b[0m\u001b[0;34m[\u001b[0m\u001b[0;34m-\u001b[0m\u001b[0;36m1\u001b[0m\u001b[0;34m]\u001b[0m \u001b[0;34m<\u001b[0m \u001b[0;36m0\u001b[0m\u001b[0;34m:\u001b[0m\u001b[0;34m\u001b[0m\u001b[0;34m\u001b[0m\u001b[0m\n\u001b[1;32m    246\u001b[0m         \u001b[0mwarning_msg\u001b[0m \u001b[0;34m=\u001b[0m \u001b[0m_msgs\u001b[0m\u001b[0;34m[\u001b[0m\u001b[0moutput\u001b[0m\u001b[0;34m[\u001b[0m\u001b[0;34m-\u001b[0m\u001b[0;36m1\u001b[0m\u001b[0;34m]\u001b[0m\u001b[0;34m]\u001b[0m \u001b[0;34m+\u001b[0m \u001b[0;34m\" Run with full_output = 1 to get quantitative information.\"\u001b[0m\u001b[0;34m\u001b[0m\u001b[0;34m\u001b[0m\u001b[0m\n",
      "\u001b[0;32m~/Documents/Koopman/DeepKoopmanRA-L/Utility.py\u001b[0m in \u001b[0;36msingle_pendulum\u001b[0;34m(self, y, t, u)\u001b[0m\n\u001b[1;32m    133\u001b[0m         \u001b[0mtheta\u001b[0m\u001b[0;34m,\u001b[0m \u001b[0mdtheta\u001b[0m \u001b[0;34m=\u001b[0m \u001b[0my\u001b[0m\u001b[0;34m\u001b[0m\u001b[0;34m\u001b[0m\u001b[0m\n\u001b[1;32m    134\u001b[0m         \u001b[0;31m# f = asarray([dtheta, -g/l * sin(theta) +  u*cos(theta)/(m*l)])\u001b[0m\u001b[0;34m\u001b[0m\u001b[0;34m\u001b[0m\u001b[0;34m\u001b[0m\u001b[0m\n\u001b[0;32m--> 135\u001b[0;31m         \u001b[0mf\u001b[0m \u001b[0;34m=\u001b[0m \u001b[0mnp\u001b[0m\u001b[0;34m.\u001b[0m\u001b[0masarray\u001b[0m\u001b[0;34m(\u001b[0m\u001b[0;34m[\u001b[0m\u001b[0mdtheta\u001b[0m\u001b[0;34m,\u001b[0m \u001b[0;34m-\u001b[0m\u001b[0mself\u001b[0m\u001b[0;34m.\u001b[0m\u001b[0mg\u001b[0m\u001b[0;34m/\u001b[0m\u001b[0mself\u001b[0m\u001b[0;34m.\u001b[0m\u001b[0ml\u001b[0m \u001b[0;34m*\u001b[0m \u001b[0mnp\u001b[0m\u001b[0;34m.\u001b[0m\u001b[0msin\u001b[0m\u001b[0;34m(\u001b[0m\u001b[0mtheta\u001b[0m\u001b[0;34m)\u001b[0m \u001b[0;34m-\u001b[0m\u001b[0mself\u001b[0m\u001b[0;34m.\u001b[0m\u001b[0mb\u001b[0m\u001b[0;34m*\u001b[0m\u001b[0mself\u001b[0m\u001b[0;34m.\u001b[0m\u001b[0ml\u001b[0m\u001b[0;34m*\u001b[0m\u001b[0mdtheta\u001b[0m\u001b[0;34m/\u001b[0m\u001b[0mself\u001b[0m\u001b[0;34m.\u001b[0m\u001b[0mm\u001b[0m\u001b[0;34m+\u001b[0m  \u001b[0mnp\u001b[0m\u001b[0;34m.\u001b[0m\u001b[0mcos\u001b[0m\u001b[0;34m(\u001b[0m\u001b[0mtheta\u001b[0m\u001b[0;34m)\u001b[0m\u001b[0;34m*\u001b[0m\u001b[0mu\u001b[0m\u001b[0;34m/\u001b[0m\u001b[0;34m(\u001b[0m\u001b[0mself\u001b[0m\u001b[0;34m.\u001b[0m\u001b[0mm\u001b[0m\u001b[0;34m*\u001b[0m\u001b[0mself\u001b[0m\u001b[0;34m.\u001b[0m\u001b[0ml\u001b[0m\u001b[0;34m)\u001b[0m\u001b[0;34m]\u001b[0m\u001b[0;34m)\u001b[0m\u001b[0;34m\u001b[0m\u001b[0;34m\u001b[0m\u001b[0m\n\u001b[0m\u001b[1;32m    136\u001b[0m         \u001b[0;32mreturn\u001b[0m \u001b[0mf\u001b[0m\u001b[0;34m\u001b[0m\u001b[0;34m\u001b[0m\u001b[0m\n\u001b[1;32m    137\u001b[0m \u001b[0;34m\u001b[0m\u001b[0m\n",
      "\u001b[0;31mKeyboardInterrupt\u001b[0m: "
     ]
    }
   ],
   "source": [
    "for j in range(4):\n",
    "    evalKoopmanDMax(j)"
   ]
  },
  {
   "cell_type": "code",
   "execution_count": 16,
   "metadata": {},
   "outputs": [
    {
     "name": "stdout",
     "output_type": "stream",
     "text": [
      "DampingPendulum\n"
     ]
    },
    {
     "name": "stderr",
     "output_type": "stream",
     "text": [
      "/home/stone/anaconda3/envs/mujoco/lib/python3.7/site-packages/ipykernel_launcher.py:17: DeprecationWarning: scipy.linalg.pinv2 is deprecated since SciPy 1.7.0, use scipy.linalg.pinv instead\n"
     ]
    },
    {
     "name": "stdout",
     "output_type": "stream",
     "text": [
      "Pendulum-v1\n",
      "CartPole-v1\n",
      "MountainCarContinuous-v0\n"
     ]
    }
   ],
   "source": [
    "for j in range(4):\n",
    "     evalKoopmanD(j)"
   ]
  },
  {
   "cell_type": "code",
   "execution_count": 10,
   "metadata": {},
   "outputs": [],
   "source": [
    "env_name = \"CartPole-v1\"\n",
    "Data_collecter = data_collecter(env_name)\n",
    "Nstate = Data_collecter.Nstates\n",
    "udim = Data_collecter.udim\n",
    "Nrbf = 100\n",
    "LiftFunc = RBFLiftFunc(env_name,Nstate,udim,Nrbf,Data_collecter.observation_space)\n",
    "NKoopman = LiftFunc.NKoopman\n",
    "Samples = 5000\n",
    "Steps = 30\n",
    "train_data = Data_collecter.collect_koopman_data(20000,1)"
   ]
  },
  {
   "cell_type": "code",
   "execution_count": 5,
   "metadata": {},
   "outputs": [
    {
     "data": {
      "text/plain": [
       "(20000, 2)"
      ]
     },
     "execution_count": 5,
     "metadata": {},
     "output_type": "execute_result"
    }
   ],
   "source": [
    "train_data[0,:,udim:].shape"
   ]
  },
  {
   "cell_type": "code",
   "execution_count": 13,
   "metadata": {},
   "outputs": [
    {
     "name": "stdout",
     "output_type": "stream",
     "text": [
      "max err: [1.25026662e-06 2.37903949e-05 5.92017828e-06 2.79197586e-04\n",
      " 2.81929065e-01 4.58707336e-01 3.60270568e-01 4.50731634e-01\n",
      " 3.09951485e-01 3.02679001e-01 3.65000869e-01 3.38358392e-01\n",
      " 3.01254958e-01 3.76671753e-01 3.18364605e-01 3.88824353e-01\n",
      " 3.51702819e-01 3.90187089e-01 2.71751648e-01 4.54038146e-01\n",
      " 4.39999269e-01 3.85287076e-01 2.42547651e-01 3.31467354e-01\n",
      " 3.28083821e-01 4.01025148e-01 3.61843778e-01 2.85567480e-01\n",
      " 3.16808843e-01 4.04619462e-01 2.66717742e-01 3.71463044e-01\n",
      " 3.17670685e-01 3.67772422e-01 4.07013852e-01 4.03475702e-01\n",
      " 2.71514121e-01 4.21659785e-01 3.33627610e-01 5.04353788e-01\n",
      " 3.60406969e-01 2.58012976e-01 3.21236761e-01 3.42057046e-01\n",
      " 3.21532680e-01 4.19753519e-01 3.03042141e-01 4.34039967e-01\n",
      " 4.44342262e-01 3.01756745e-01 4.78227061e-01 4.18435737e-01\n",
      " 3.53974310e-01 2.10253754e-01 3.70549169e-01 3.62969222e-01\n",
      " 4.43670817e-01 4.13737693e-01 3.04674108e-01 3.14981216e-01\n",
      " 2.89507047e-01 2.80051835e-01 2.49503789e-01 4.33161561e-01\n",
      " 4.43365487e-01 3.99544637e-01 4.04773301e-01 3.45414239e-01\n",
      " 4.06222121e-01 4.73006214e-01 1.80781596e-01 2.52752432e-01\n",
      " 4.31844698e-01 4.37547777e-01 2.70043077e-01 3.59050636e-01\n",
      " 4.05891810e-01 4.34561098e-01 3.95726053e-01 2.62107678e-01\n",
      " 3.85836437e-01 3.52145834e-01 2.47720159e-01 2.58302245e-01\n",
      " 4.00193091e-01 3.78714525e-01 3.21642892e-01 4.33102391e-01\n",
      " 4.84136504e-01 3.41002055e-01 4.50717477e-01 4.05100495e-01\n",
      " 3.64865900e-01 3.82207355e-01 3.25348538e-01 4.01145720e-01\n",
      " 3.33879251e-01 3.82565469e-01 3.60091288e-01 4.38863006e-01\n",
      " 2.38433012e-01 3.66199264e-01 3.00081366e-01 3.56224878e-01\n",
      " 3.36996864e-08]\n"
     ]
    },
    {
     "name": "stderr",
     "output_type": "stream",
     "text": [
      "/home/stone/anaconda3/envs/mujoco/lib/python3.7/site-packages/ipykernel_launcher.py:5: DeprecationWarning: scipy.linalg.pinv2 is deprecated since SciPy 1.7.0, use scipy.linalg.pinv instead\n",
      "  \"\"\"\n"
     ]
    }
   ],
   "source": [
    "X_lift = LiftFunc.Psi_su(train_data[0,:,udim:],train_data[0,:,:udim])\n",
    "Y_lift = LiftFunc.Psi_su(train_data[1,:,udim:],train_data[0,:,:udim])\n",
    "XX = np.dot(X_lift.T,X_lift)\n",
    "XY = np.dot(X_lift.T,Y_lift)\n",
    "Kd = np.dot(scipy.linalg.pinv2(XX),XY).T\n",
    "local_errors = abs(Y_lift- np.dot(X_lift,Kd.T))\n",
    "max_local_errors = np.amax(local_errors, axis = 0)\n",
    "print(\"max err:\",max_local_errors)"
   ]
  },
  {
   "cell_type": "code",
   "execution_count": 14,
   "metadata": {},
   "outputs": [
    {
     "name": "stdout",
     "output_type": "stream",
     "text": [
      "[7.334617651647696e-05, 0.00012119693130251716, 0.00021365338458725555, 0.00040474960468207376, 0.0007135542404852879, 0.0012540413994875932, 0.0020370609592137504, 0.003078555943712088, 0.004275810097803184, 0.006451988908515324, 0.008129235428477426, 0.011401034886597196, 0.016520090036860918, 0.020142624157188788, 0.029760201213041994, 0.04587552965373076, 0.061420688405664434, 0.08704520893892159, 0.11396591786717924, 0.16302386448786402, 0.21721111783373004, 0.29009210670574054, 0.4035984540418559, 0.5449690998552803, 0.7811834541202807, 1.0838213470300415, 1.4198609934463502, 1.9765330999032156, 2.7130266843897966]\n"
     ]
    }
   ],
   "source": [
    "test_data = Data_collecter.collect_koopman_data(Samples,Steps)\n",
    "X_current = test_data[0,:,:]\n",
    "X_current_lift = LiftFunc.Psi_su(X_current[:,udim:],X_current[:,:udim])\n",
    "maxloss_list = []\n",
    "meanloss_list = []\n",
    "for i in range(Steps-1):\n",
    "    X_current_lift = np.dot(X_current_lift,Kd.T)\n",
    "    X_current_lift[:,NKoopman:] = test_data[i+1,:,:udim]\n",
    "    Err = X_current_lift[:,:Nstate] - test_data[i+1,:,udim:]\n",
    "    maxloss = np.mean(np.max(abs(Err),axis=0))\n",
    "    meanloss = np.mean(np.mean(abs(Err),axis=0))\n",
    "    maxloss_list.append(maxloss)\n",
    "    meanloss_list.append(meanloss)\n",
    "print(maxloss_list)"
   ]
  }
 ],
 "metadata": {
  "interpreter": {
   "hash": "a4d06311c44a4bca643a5b6bd1fed619513a1bbcc6119049a755b6c84aad7bef"
  },
  "kernelspec": {
   "display_name": "Python 3.7.12 64-bit ('mujoco': conda)",
   "language": "python",
   "name": "python3"
  },
  "language_info": {
   "codemirror_mode": {
    "name": "ipython",
    "version": 3
   },
   "file_extension": ".py",
   "mimetype": "text/x-python",
   "name": "python",
   "nbconvert_exporter": "python",
   "pygments_lexer": "ipython3",
   "version": "3.7.12"
  },
  "orig_nbformat": 4
 },
 "nbformat": 4,
 "nbformat_minor": 2
}
