{
 "cells": [
  {
   "cell_type": "code",
   "execution_count": 1,
   "metadata": {},
   "outputs": [],
   "source": [
    "import torch\n",
    "import numpy as np\n",
    "import torch.nn as nn\n",
    "import torch.nn.functional as F\n",
    "import gym\n",
    "import matplotlib.pyplot as plt\n",
    "import random\n",
    "import argparse\n",
    "from collections import OrderedDict\n",
    "from copy import copy\n",
    "# import Learn_Knonlinear as lka\n",
    "import scipy\n",
    "import scipy.linalg\n",
    "from scipy.integrate import odeint\n",
    "import sys\n",
    "import os\n",
    "sys.path.append(\"../utility\")\n",
    "sys.path.append(\"../train\")\n",
    "from Utility import data_collecter\n",
    "os.environ['KMP_DUPLICATE_LIB_OK'] = \"TRUE\""
   ]
  },
  {
   "cell_type": "code",
   "execution_count": 2,
   "metadata": {},
   "outputs": [],
   "source": [
    "Methods = [\"KoopmanDerivative\",\"KoopmanRBF\",\\\n",
    "            \"KNonlinear\",\"KNonlinearRNN\",\"KoopmanU\",\\\n",
    "            \"KoopmanNonlinearA\",\"KoopmanNonlinear\",\\\n",
    "                ]\n",
    "Method_names = [\"KoopmanDerivative\",\"KoopmanRBF\",\\\n",
    "            \"KDNN\",\"KRNN\",\"DKUC(ours)\",\\\n",
    "            \"DKAC(ours)\",\"DKN(ours)\",\\\n",
    "                ]"
   ]
  },
  {
   "cell_type": "code",
   "execution_count": 16,
   "metadata": {},
   "outputs": [],
   "source": [
    "def eval_err(suffix,env_name,method_index,layer_i):\n",
    "    # method_index = 0\n",
    "    method = Methods[method_index]\n",
    "    root_path = \"../Data/\"+suffix\n",
    "    print(method)\n",
    "    if method.endswith(\"KNonlinear\"):\n",
    "        import Learn_Knonlinear as lka\n",
    "    elif method.endswith(\"KNonlinearRNN\"):\n",
    "        import Learn_Knonlinear_RNN as lka\n",
    "    elif method.endswith(\"KoopmanNonlinear\"):\n",
    "        import Learn_KoopmanNonlinear_with_KlinearEig as lka\n",
    "    elif method.endswith(\"KoopmanNonlinearA\"):\n",
    "        import Learn_KoopmanNonlinearA_with_KlinearEig as lka\n",
    "    elif method.endswith(\"KoopmanU\"):\n",
    "        import Learn_Koopman_with_KlinearEig as lka\n",
    "    for file in os.listdir(root_path):\n",
    "        if file.startswith(\"KoopmanU_DampingPendulumlayer{}\".format(layer_i)+\"_\") and file.endswith(\".pth\"):\n",
    "            model_path = file  \n",
    "    Data_collect = data_collecter(env_name)\n",
    "    udim = Data_collect.udim\n",
    "    Nstates = Data_collect.Nstates\n",
    "    layer_depth = layer_i\n",
    "    layer_width = 128\n",
    "    dicts = torch.load(root_path+\"/\"+model_path,map_location=torch.device('cpu'))\n",
    "    state_dict = dicts[\"model\"]\n",
    "    if method.endswith(\"KNonlinear\"):\n",
    "        Elayer = dicts[\"Elayer\"]\n",
    "        net = lka.Network(layers=Elayer,u_dim=udim)\n",
    "    elif method.endswith(\"KNonlinearRNN\"):\n",
    "        net = lka.Network(input_size=udim+Nstates,output_size=Nstates,hidden_dim=layer_width, n_layers=layer_depth-1)\n",
    "    elif method.endswith(\"KoopmanNonlinear\") or method.endswith(\"KoopmanNonlinearA\"):\n",
    "        layer = dicts[\"layer\"]\n",
    "        blayer = dicts[\"blayer\"]\n",
    "        NKoopman = layer[-1]+Nstates\n",
    "        net = lka.Network(layer,blayer,NKoopman,udim)\n",
    "    elif method.endswith(\"KoopmanU\"):\n",
    "        layer = dicts[\"layer\"]\n",
    "        NKoopman = layer[-1]+Nstates\n",
    "        net = lka.Network(layer,NKoopman,udim)  \n",
    "    net.load_state_dict(state_dict)\n",
    "    device = torch.device(\"cpu\")\n",
    "    # net.cuda()\n",
    "    net.double()\n",
    "    Samples = 5000\n",
    "    steps = 30\n",
    "    random.seed(2022)\n",
    "    np.random.seed(2022)\n",
    "    times = 4 \n",
    "    max_loss_all = np.zeros((times,steps))\n",
    "    mean_loss_all = np.zeros((times,steps))\n",
    "    with torch.no_grad():\n",
    "        for i in range(times):\n",
    "            test_data_path = \"../Data/{}{}.npy\".format(env_name,i)\n",
    "            if os.path.exists(test_data_path):\n",
    "                test_data = np.load(\"../Data/{}{}.npy\".format(env_name,i))\n",
    "            else:\n",
    "                test_data = Data_collect.collect_koopman_data(Samples,steps)\n",
    "                np.save(\"../Data/{}{}.npy\".format(env_name,i),test_data)\n",
    "            max_loss,mean_loss = lka.K_loss(test_data,net,udim,Nstate=Nstates)\n",
    "            max_loss_all[i] = max_loss.reshape(-1)\n",
    "            mean_loss_all[i] = mean_loss.reshape(-1)\n",
    "    max_mean = np.mean(max_loss_all,axis=0)\n",
    "    max_std = np.std(max_loss_all,axis=0)\n",
    "    mean_mean =  np.mean(mean_loss_all,axis=0)\n",
    "    mean_std =  np.std(mean_loss_all,axis=0)\n",
    "    np.save(\"../Prediction_Results/SizeNN/\"+env_name+\"_\"+method+\"layer{}.npy\".format(layer_i),np.array([max_mean,max_std,mean_mean,mean_std]))\n",
    "    return max_mean,max_std,mean_mean,mean_std"
   ]
  },
  {
   "cell_type": "code",
   "execution_count": 17,
   "metadata": {},
   "outputs": [
    {
     "name": "stdout",
     "output_type": "stream",
     "text": [
      "KoopmanU\n",
      "KoopmanU\n",
      "KoopmanU\n",
      "KoopmanU\n",
      "KoopmanU\n"
     ]
    }
   ],
   "source": [
    "suffix = \"4_26\"\n",
    "env_name = \"DampingPendulum\"\n",
    "for i in range(5):\n",
    "    eval_err(suffix,env_name,method_index=4,layer_i=i+1)"
   ]
  },
  {
   "cell_type": "code",
   "execution_count": 26,
   "metadata": {},
   "outputs": [
    {
     "data": {
      "image/png": "[encoded data removed]",
      "text/plain": [
       "<Figure size 432x288 with 1 Axes>"
      ]
     },
     "metadata": {
      "needs_background": "light"
     },
     "output_type": "display_data"
    }
   ],
   "source": [
    "colors = ['#1f77b4', '#ff7f0e', '#2ca02c', '#d62728', '#9467bd', '#8c564b', '#e377c2', '#7f7f7f', '#bcbd22', '#17becf']\n",
    "font = {'size'   : 12}\n",
    "\n",
    "plt.rc('font', **font)\n",
    "# markers = ['*','+','*','+','*','+','*']\n",
    "env_name = \"DampingPendulum\"\n",
    "# env_name = \"CartPole-v1\"\n",
    "# env_name = \"MountainCarContinuous-v0\"\n",
    "# env_name = \"Pendulum-v1\"\n",
    "# env_name = \"Franka\"\n",
    "# env_name = \"DoublePendulum\"\n",
    "title = env_name\n",
    "compare = \"max\"\n",
    "# compare = \"mean\"\n",
    "for i in range(5):\n",
    "    file_path = \"../Prediction_Results/SizeNN/\"+\"DampingPendulum_KoopmanUlayer{}.npy\".format(i+1)\n",
    "    data = np.load(file_path)\n",
    "    plt.plot(np.log10(data[0]),'*-',color = colors[i],label=\"Layer Depth of NNs = {}\".format(i+1),linewidth=1.5)\n",
    "plt.legend()\n",
    "# plt.grid(linestyle='-.')\n",
    "plt.xlabel(\"Steps\",fontsize=12)\n",
    "plt.ylabel(\"Log Err\",fontsize=12)\n",
    "plt.title(title,fontsize=15)\n",
    "plt.savefig(\"../Prediction_Results/SizeNN\"+env_name+\"_\"+compare+\"_new1.png\",dpi=300)"
   ]
  }
 ],
 "metadata": {
  "interpreter": {
   "hash": "a4d06311c44a4bca643a5b6bd1fed619513a1bbcc6119049a755b6c84aad7bef"
  },
  "kernelspec": {
   "display_name": "Python 3",
   "language": "python",
   "name": "python3"
  },
  "language_info": {
   "codemirror_mode": {
    "name": "ipython",
    "version": 3
   },
   "file_extension": ".py",
   "mimetype": "text/x-python",
   "name": "python",
   "nbconvert_exporter": "python",
   "pygments_lexer": "ipython3",
   "version": "3.8.12"
  }
 },
 "nbformat": 4,
 "nbformat_minor": 4
}
