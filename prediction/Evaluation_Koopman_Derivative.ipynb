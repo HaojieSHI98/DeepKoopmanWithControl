{
 "cells": [
  {
   "cell_type": "code",
   "execution_count": 1,
   "metadata": {},
   "outputs": [
    {
     "name": "stderr",
     "output_type": "stream",
     "text": [
      "/home/stone/anaconda3/envs/mujoco/lib/python3.7/site-packages/ale_py/roms/utils.py:90: DeprecationWarning: SelectableGroups dict interface is deprecated. Use select.\n",
      "  for external in metadata.entry_points().get(self.group, []):\n"
     ]
    }
   ],
   "source": [
    "import numpy as np\n",
    "import random\n",
    "import scipy.linalg\n",
    "import gym\n",
    "from Utility import DerivativeLiftFunc, data_collecter"
   ]
  },
  {
   "cell_type": "code",
   "execution_count": 2,
   "metadata": {},
   "outputs": [],
   "source": [
    "ENV = [\"DampingPendulum\",\"Pendulum-v1\",\"CartPole-v1\",\"MountainCarContinuous-v0\"]"
   ]
  },
  {
   "cell_type": "code",
   "execution_count": 3,
   "metadata": {},
   "outputs": [],
   "source": [
    "def evalKoopmanD(env_index):\n",
    "    env_name = ENV[env_index]\n",
    "    print(env_name)\n",
    "    Data_collecter = data_collecter(env_name)\n",
    "    Nstate = Data_collecter.Nstates\n",
    "    udim = Data_collecter.udim\n",
    "    LiftFunc = DerivativeLiftFunc(env_name,Nstate,udim)\n",
    "    NKoopman = LiftFunc.NKoopman\n",
    "    Samples = 5000\n",
    "    Steps = 30\n",
    "    random.seed(1)\n",
    "    np.random.seed(1)\n",
    "    def A_and_G_o(s_1, s_2, u): # Uses measurements s(t_k) & s(t_{k+1}) to calculate A and G\n",
    "        A = np.dot(LiftFunc.Psi_su(s_2, u).reshape(-1,1), LiftFunc.Psi_su(s_1, u).reshape(1,-1))\n",
    "        # print(A.shape)\n",
    "        G = np.dot(LiftFunc.Psi_su(s_1, u).reshape(-1,1), LiftFunc.Psi_su(s_1, u).reshape(1,-1))\n",
    "        return A, G\n",
    "\n",
    "    np.random.seed(1)\n",
    "    env = Data_collecter.env\n",
    "    env.reset()\n",
    "    Samples = 20000\n",
    "    A = np.zeros((NKoopman+1, NKoopman+1))\n",
    "    G = np.zeros((NKoopman+1, NKoopman+1))\n",
    "\n",
    "    Ps0_list = np.empty((Samples,NKoopman+1))\n",
    "    Psi_list = np.empty((Samples,NKoopman+1))\n",
    "\n",
    "    for i in range (Samples):\n",
    "\n",
    "        # Sample states\n",
    "        s0 = Data_collecter.random_state()\n",
    "        u10 = np.random.uniform(Data_collecter.umin, Data_collecter.umax)\n",
    "\n",
    "        # Simulate system forward\n",
    "        env.reset_state(s0)\n",
    "        sn = env.step(u10)\n",
    "        sn = sn[0]\n",
    "        # sn = odeint(single_pendulum, s0, [0, ts], args=(u10,))\n",
    "        # sn = sn[-1,:]   \n",
    "\n",
    "        # Evaluate basis functions at t = 0 and t = ts\n",
    "        Ps0_list[i,:] = LiftFunc.Psi_su(s0, u10).reshape(-1)\n",
    "        Psi_list[i,:] = LiftFunc.Psi_su(sn, u10).reshape(-1)\n",
    "\n",
    "        [Atemp, Gtemp] = A_and_G_o(s0,sn,u10)\n",
    "        A = A+Atemp\n",
    "        G = G+Gtemp\n",
    "\n",
    "    Kd = np.dot(A,scipy.linalg.pinv2(G)) # more accurate than numpy\n",
    "    # print(\"The identified Koopman operator is \\n\", Kd)\n",
    "    eig = np.linalg.eigvals(Kd)\n",
    "    print(\"max eig val:{}\".format(max(eig)))\n",
    "\n",
    "    ## Measure maximum local (across one time step) errors in Ψ(s_{k+1}) - Kd*Ψ(s_k)\n",
    "    local_errors = np.empty([Samples, NKoopman+1])\n",
    "    for i in range(Samples):\n",
    "        local_errors[i,:] = abs(Psi_list[i,:]- np.dot(Kd,Ps0_list[i,:]))\n",
    "    max_local_errors = np.amax(local_errors, axis = 0)\n",
    "    print('Max local errors in theta: {}'.format(max_local_errors[:Nstate]))\n",
    "    # mean_local_errors = np.mean(local_errors, axis = 0)\n",
    "    # print('Mean local errors in theta: {}'.format(mean_local_errors[:Nstate]))# Save trained Koopman and basis functions measurements used to obtain it\n",
    "# io.savemat('Data - Koopman_and_BasisFunctions_CartPole.mat', {'Kd' : Kd, 'max_local_errors' : max_local_errors}) # save variables to Matlab file\n",
    "    # train_data = Data_collecter.collect_koopman_data(20000,1)\n",
    "    # X_lift = np.zeros((20000,NKoopman+udim))\n",
    "    # Y_lift = np.zeros((20000,NKoopman+udim))\n",
    "    # for i in range(20000):\n",
    "    #     X_lift[i] = LiftFunc.Psi_su(train_data[0,i,udim:],train_data[0,i,:udim])\n",
    "    #     Y_lift[i] = LiftFunc.Psi_su(train_data[1,i,udim:],train_data[0,i,:udim])\n",
    "    # XX = np.dot(X_lift.T,X_lift)\n",
    "    # XY = np.dot(X_lift.T,Y_lift)\n",
    "    # Kd = np.dot(scipy.linalg.pinv2(XX),XY).T\n",
    "    # eig = np.linalg.eigvals(Kd)\n",
    "    # print(\"max eig val:{}\".format(max(eig)))\n",
    "    np.save(\"Prediction_Results/\"+\"Kd_\"+env_name+\"_KoopmanDerivative\"+\".npy\",Kd)  \n",
    "    # local_errors = abs(Y_lift- np.dot(X_lift,Kd.T))\n",
    "    # max_local_errors = np.amax(local_errors, axis = 0)\n",
    "    # print(\"max err:\",max_local_errors)\n",
    "    # random.seed(2022)\n",
    "    # np.random.seed(2022)\n",
    "    times = 4 \n",
    "    max_loss_all = np.zeros((times,Steps))\n",
    "    mean_loss_all = np.zeros((times,Steps))\n",
    "    for t in range(times):\n",
    "        test_data = Data_collecter.collect_koopman_data(Samples,Steps)\n",
    "        X_current = test_data[0,:,:]\n",
    "        X_current_lift = np.zeros((Samples,NKoopman+udim))\n",
    "        maxloss_list = []\n",
    "        meanloss_list = []\n",
    "        for i in range(Samples):\n",
    "            X_current_lift[i] = LiftFunc.Psi_su(X_current[i,udim:],X_current[i,:udim])\n",
    "        for i in range(Steps):\n",
    "            X_current_lift = np.dot(X_current_lift,Kd.T)\n",
    "            X_current_lift[:,NKoopman:] = test_data[i+1,:,:udim]\n",
    "            Err = X_current_lift[:,:Nstate] - test_data[i+1,:,udim:]\n",
    "            maxloss = np.mean(np.max(abs(Err),axis=0))\n",
    "            meanloss = np.mean(np.mean(abs(Err),axis=0))\n",
    "            maxloss_list.append(maxloss)\n",
    "            meanloss_list.append(meanloss)\n",
    "        max_loss_all[t] = np.array(maxloss_list).reshape(-1)\n",
    "        mean_loss_all[t] = np.array(meanloss_list).reshape(-1)\n",
    "    max_mean = np.mean(max_loss_all,axis=0)\n",
    "    max_std = np.std(max_loss_all,axis=0)\n",
    "    mean_mean =  np.mean(mean_loss_all,axis=0)\n",
    "    mean_std =  np.std(mean_loss_all,axis=0)  \n",
    "    np.save(\"Prediction_Results/\"+env_name+\"_KoopmanDerivative\"+\".npy\",np.array([max_mean,max_std,mean_mean,mean_std]))\n",
    "    return max_mean,max_std,mean_mean,mean_std "
   ]
  },
  {
   "cell_type": "code",
   "execution_count": 4,
   "metadata": {},
   "outputs": [
    {
     "name": "stdout",
     "output_type": "stream",
     "text": [
      "DampingPendulum\n"
     ]
    },
    {
     "name": "stderr",
     "output_type": "stream",
     "text": [
      "/home/stone/anaconda3/envs/mujoco/lib/python3.7/site-packages/ipykernel_launcher.py:50: DeprecationWarning: scipy.linalg.pinv2 is deprecated since SciPy 1.7.0, use scipy.linalg.pinv instead\n"
     ]
    },
    {
     "name": "stdout",
     "output_type": "stream",
     "text": [
      "max eig val:(0.9999999999999993+0j)\n",
      "Max local errors in theta: [0.00159037 0.15856233]\n",
      "Pendulum-v1\n",
      "max eig val:(0.9999999999999982+0j)\n",
      "Max local errors in theta: [4.61852778e-14 7.99360578e-14]\n",
      "CartPole-v1\n"
     ]
    },
    {
     "name": "stderr",
     "output_type": "stream",
     "text": [
      "/home/stone/Documents/Koopman/gym/gym/envs/classic_control/cartpole.py:156: UserWarning: \u001b[33mWARN: You are calling 'step()' even though this environment has already returned done = True. You should always call 'reset()' once you receive 'done = True' -- any further steps are undefined behavior.\u001b[0m\n",
      "  \"You are calling 'step()' even though this \"\n"
     ]
    },
    {
     "name": "stdout",
     "output_type": "stream",
     "text": [
      "max eig val:1.0671169829832712\n",
      "Max local errors in theta: [2.38088098e-07 1.49414054e-03 3.00818355e-08 1.83861029e-02]\n",
      "MountainCarContinuous-v0\n",
      "max eig val:(1.0000000000000888+0j)\n",
      "Max local errors in theta: [2.99026564e-08 2.77465595e-08]\n"
     ]
    }
   ],
   "source": [
    "for j in range(4):\n",
    "     evalKoopmanD(j)"
   ]
  },
  {
   "cell_type": "code",
   "execution_count": 2,
   "metadata": {},
   "outputs": [],
   "source": [
    "env_name = \"DampingPendulum\"\n",
    "Data_collecter = data_collecter(env_name)\n",
    "Nstate = Data_collecter.Nstates\n",
    "udim = Data_collecter.udim\n",
    "LiftFunc = DerivativeLiftFunc(env_name,Nstate,udim)\n",
    "NKoopman = LiftFunc.NKoopman\n",
    "Samples = 5000\n",
    "Steps = 30\n",
    "train_data = Data_collecter.collect_koopman_data(20000,1)"
   ]
  },
  {
   "cell_type": "code",
   "execution_count": 3,
   "metadata": {},
   "outputs": [
    {
     "name": "stdout",
     "output_type": "stream",
     "text": [
      "max err: [5.25485295e-05 5.39188926e-03 6.79820783e-03 1.38979410e-01\n",
      " 3.35997896e-12]\n"
     ]
    },
    {
     "name": "stderr",
     "output_type": "stream",
     "text": [
      "/home/stone/anaconda3/envs/mujoco/lib/python3.7/site-packages/ipykernel_launcher.py:8: DeprecationWarning: scipy.linalg.pinv2 is deprecated since SciPy 1.7.0, use scipy.linalg.pinv instead\n",
      "  \n"
     ]
    }
   ],
   "source": [
    "X_lift = np.zeros((20000,NKoopman+udim))\n",
    "Y_lift = np.zeros((20000,NKoopman+udim))\n",
    "for i in range(20000):\n",
    "    X_lift[i] = LiftFunc.Psi_su(train_data[0,i,udim:],train_data[0,i,:udim])\n",
    "    Y_lift[i] = LiftFunc.Psi_su(train_data[1,i,udim:],train_data[0,i,:udim])\n",
    "XX = np.dot(X_lift.T,X_lift)\n",
    "XY = np.dot(X_lift.T,Y_lift)\n",
    "Kd = np.dot(scipy.linalg.pinv2(XX),XY).T\n",
    "local_errors = abs(Y_lift- np.dot(X_lift,Kd.T))\n",
    "max_local_errors = np.amax(local_errors, axis = 0)\n",
    "print(\"max err:\",max_local_errors)\n"
   ]
  },
  {
   "cell_type": "code",
   "execution_count": 5,
   "metadata": {},
   "outputs": [],
   "source": [
    "test_data = Data_collecter.collect_koopman_data(Samples,Steps)\n",
    "X_current = test_data[0,:,:]\n",
    "X_current_lift = np.zeros((Samples,NKoopman+udim))\n",
    "maxloss_list = []\n",
    "meanloss_list = []\n",
    "for i in range(Samples):\n",
    "    X_current_lift[i] = LiftFunc.Psi_su(X_current[i,udim:],X_current[i,:udim])\n",
    "for i in range(Steps-1):\n",
    "    X_current_lift = np.dot(X_current_lift,Kd.T)\n",
    "    X_current_lift[:,NKoopman:] = test_data[i+1,:,:udim]\n",
    "    Err = X_current_lift[:,:Nstate] - test_data[i+1,:,udim:]\n",
    "    maxloss = np.mean(np.max(Err,axis=0))\n",
    "    meanloss = np.mean(np.mean(Err,axis=0))\n",
    "    maxloss_list.append(maxloss)\n",
    "    meanloss_list.append(meanloss)\n",
    "# print(maxloss_list)"
   ]
  }
 ],
 "metadata": {
  "interpreter": {
   "hash": "a4d06311c44a4bca643a5b6bd1fed619513a1bbcc6119049a755b6c84aad7bef"
  },
  "kernelspec": {
   "display_name": "Python 3.7.12 64-bit ('mujoco': conda)",
   "language": "python",
   "name": "python3"
  },
  "language_info": {
   "codemirror_mode": {
    "name": "ipython",
    "version": 3
   },
   "file_extension": ".py",
   "mimetype": "text/x-python",
   "name": "python",
   "nbconvert_exporter": "python",
   "pygments_lexer": "ipython3",
   "version": "3.7.12"
  },
  "orig_nbformat": 4
 },
 "nbformat": 4,
 "nbformat_minor": 2
}
