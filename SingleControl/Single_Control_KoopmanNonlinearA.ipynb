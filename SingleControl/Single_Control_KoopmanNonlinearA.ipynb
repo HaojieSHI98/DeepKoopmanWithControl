{
 "cells": [
  {
   "cell_type": "code",
   "execution_count": 1,
   "metadata": {},
   "outputs": [
    {
     "name": "stderr",
     "output_type": "stream",
     "text": [
      "/home/stone/anaconda3/envs/mujoco/lib/python3.7/site-packages/ale_py/roms/utils.py:90: DeprecationWarning: SelectableGroups dict interface is deprecated. Use select.\n",
      "  for external in metadata.entry_points().get(self.group, []):\n"
     ]
    }
   ],
   "source": [
    "import torch\n",
    "import numpy as np\n",
    "import torch.nn as nn\n",
    "import torch.nn.functional as F\n",
    "import gym\n",
    "import matplotlib.pyplot as plt\n",
    "import random\n",
    "import argparse\n",
    "from collections import OrderedDict\n",
    "from copy import copy\n",
    "import scipy\n",
    "import scipy.linalg\n",
    "from Utility import data_collecter\n",
    "import os\n",
    "import lqr"
   ]
  },
  {
   "cell_type": "code",
   "execution_count": 2,
   "metadata": {},
   "outputs": [],
   "source": [
    "Methods = [\"KoopmanDerivative\",\"KoopmanRBF\",\\\n",
    "            \"KNonlinear\",\"KNonlinearRNN\",\"KoopmanU\",\\\n",
    "            \"KoopmanNonlinearA\",\"KoopmanNonlinear\",\\\n",
    "                ]\n",
    "method_index = 5\n",
    "# suffix = \"CartPole1_28\"\n",
    "# env_name = \"CartPole-v1\"\n",
    "# suffix = \"Pendulum1_26\"\n",
    "# env_name = \"Pendulum-v1\"\n",
    "# suffix = \"DampingPendulum1_26\"\n",
    "# env_name = \"DampingPendulum\"\n",
    "# suffix = \"MountainCarContinuous1_26\"\n",
    "# env_name = \"MountainCarContinuous-v0\"\n",
    "suffix = \"TwoLinkRobot2_9\"\n",
    "env_name = \"TwoLinkRobot\""
   ]
  },
  {
   "cell_type": "code",
   "execution_count": 3,
   "metadata": {},
   "outputs": [
    {
     "name": "stdout",
     "output_type": "stream",
     "text": [
      "KoopmanNonlinearA\n"
     ]
    },
    {
     "data": {
      "text/plain": [
       "Network(\n",
       "  (encode_net): Sequential(\n",
       "    (linear_0): Linear(in_features=4, out_features=128, bias=True)\n",
       "    (relu_0): ReLU()\n",
       "    (linear_1): Linear(in_features=128, out_features=128, bias=True)\n",
       "    (relu_1): ReLU()\n",
       "    (linear_2): Linear(in_features=128, out_features=128, bias=True)\n",
       "    (relu_2): ReLU()\n",
       "    (linear_3): Linear(in_features=128, out_features=20, bias=True)\n",
       "  )\n",
       "  (bilinear_net): Sequential(\n",
       "    (linear_0): Linear(in_features=4, out_features=128, bias=True)\n",
       "    (relu_0): ReLU()\n",
       "    (linear_1): Linear(in_features=128, out_features=128, bias=True)\n",
       "    (relu_1): ReLU()\n",
       "    (linear_2): Linear(in_features=128, out_features=128, bias=True)\n",
       "    (relu_2): ReLU()\n",
       "    (linear_3): Linear(in_features=128, out_features=2, bias=True)\n",
       "  )\n",
       "  (lA): Linear(in_features=24, out_features=24, bias=False)\n",
       "  (lB): Linear(in_features=2, out_features=24, bias=False)\n",
       ")"
      ]
     },
     "execution_count": 3,
     "metadata": {},
     "output_type": "execute_result"
    }
   ],
   "source": [
    "method = Methods[method_index]\n",
    "root_path = \"../Data/\"+suffix\n",
    "print(method)\n",
    "if method.endswith(\"KNonlinear\"):\n",
    "    import Learn_Knonlinear as lka\n",
    "elif method.endswith(\"KNonlinearRNN\"):\n",
    "    import Learn_Knonlinear_RNN as lka\n",
    "elif method.endswith(\"KoopmanNonlinear\"):\n",
    "    import Learn_KoopmanNonlinear_with_KlinearEig as lka\n",
    "elif method.endswith(\"KoopmanNonlinearA\"):\n",
    "    import Learn_KoopmanNonlinearA_with_KlinearEig as lka\n",
    "elif method.endswith(\"KoopmanU\"):\n",
    "    import Learn_Koopman_with_KlinearEig as lka\n",
    "for file in os.listdir(root_path):\n",
    "    if file.startswith(method+\"_\") and file.endswith(\".pth\"):\n",
    "        model_path = file  \n",
    "Data_collect = data_collecter(env_name)\n",
    "udim = Data_collect.udim\n",
    "Nstate = Data_collect.Nstates\n",
    "layer_depth = 3\n",
    "layer_width = 128\n",
    "dicts = torch.load(root_path+\"/\"+model_path)\n",
    "state_dict = dicts[\"model\"]\n",
    "if method.endswith(\"KNonlinear\"):\n",
    "    Elayer = dicts[\"Elayer\"]\n",
    "    net = lka.Network(layers=Elayer,u_dim=udim)\n",
    "elif method.endswith(\"KNonlinearRNN\"):\n",
    "    net = lka.Network(input_size=udim+Nstate,output_size=Nstate,hidden_dim=layer_width, n_layers=layer_depth-1)\n",
    "elif method.endswith(\"KoopmanNonlinear\") or method.endswith(\"KoopmanNonlinearA\"):\n",
    "    layer = dicts[\"layer\"]\n",
    "    blayer = dicts[\"blayer\"]\n",
    "    NKoopman = layer[-1]+Nstate\n",
    "    net = lka.Network(layer,blayer,NKoopman,udim)\n",
    "elif method.endswith(\"KoopmanU\"):\n",
    "    layer = dicts[\"layer\"]\n",
    "    NKoopman = layer[-1]+Nstate\n",
    "    net = lka.Network(layer,NKoopman,udim)  \n",
    "net.load_state_dict(state_dict)\n",
    "device = torch.device(\"cpu\")\n",
    "net.cpu()\n",
    "net.double()"
   ]
  },
  {
   "cell_type": "code",
   "execution_count": 4,
   "metadata": {},
   "outputs": [],
   "source": [
    "def Psi_o(s,net): # Evaluates basis functions Ψ(s(t_k))\n",
    "    psi = np.zeros([NKoopman,1])\n",
    "    ds = net.encode(torch.DoubleTensor(s)).detach().cpu().numpy()\n",
    "    psi[:NKoopman,0] = ds\n",
    "    return psi\n",
    "\n",
    "def Prepare_LQR(env_name):\n",
    "    x_ref = np.zeros(Nstate)\n",
    "    if env_name.startswith(\"CartPole\"):\n",
    "        Q = np.zeros((NKoopman,NKoopman))\n",
    "        Q[1,1] = 0.01\n",
    "        Q[2,2] = 5.0\n",
    "        Q[3,3] = 0.01\n",
    "        R = 0.8*np.eye(1) #0.01\n",
    "        reset_state=  [0.0,0.0,-1.0,0.1]\n",
    "    elif env_name.startswith(\"Pendulum\"):\n",
    "        Q = np.zeros((NKoopman,NKoopman))\n",
    "        Q[0,0] = 5.0\n",
    "        Q[1,1] = 0.01\n",
    "        R = 9*np.eye(1) #0.01\n",
    "        reset_state = [-3.0,6.0]\n",
    "    elif env_name.startswith(\"DampingPendulum\"):\n",
    "        Q = np.zeros((NKoopman,NKoopman))\n",
    "        Q[0,0] = 5.0\n",
    "        Q[1,1] = 0.01\n",
    "        R = 100*np.eye(1)\n",
    "        reset_state = [-3.0,2.0]   \n",
    "    elif env_name.startswith(\"MountainCarContinuous\"):\n",
    "        Q = np.zeros((NKoopman,NKoopman))\n",
    "        Q[0,0] = 5.0\n",
    "        Q[1,1] = 0.01\n",
    "        R = 9*np.eye(1) #0.01\n",
    "        reset_state = [-0.3,0.1]  \n",
    "        x_ref[0] = 0.45\n",
    "    elif env_name.startswith(\"TwoLinkRobot\"):\n",
    "        Q = np.zeros((NKoopman,NKoopman))\n",
    "        Q[:2,:2] = 5*np.eye(2)\n",
    "        Q[2:4,2:4] = 0.01*np.eye(2)\n",
    "        R = np.eye(2)\n",
    "        x_ref[0] = np.pi/2.0\n",
    "        x_ref[1] = 0.0\n",
    "        reset_state = [0,0,0,0]\n",
    "    Q = np.matrix(Q)\n",
    "    R = np.matrix(R)\n",
    "    return Q,R,reset_state,x_ref\n",
    "\n",
    "def criterion(env_name,observations):\n",
    "    if env_name.startswith(\"CartPole\"):\n",
    "        err = np.mean(abs(observations[2:,195:]))\n",
    "    elif env_name.startswith(\"Pendulum\"):\n",
    "        err = np.mean(abs(observations[:,195:]))\n",
    "    elif env_name.startswith(\"DampingPendulum\"):\n",
    "        err = np.mean(abs(observations[:,195:]))\n",
    "    elif env_name.startswith(\"MountainCarContinuous\"):\n",
    "        err = np.mean(abs(observations[0,195:]-0.45))+np.mean(abs(observations[1,195:]))\n",
    "    elif env_name.startswith(\"TwoLinkRobot\"):\n",
    "        err = np.mean(abs(observations[:,195:]-np.array([np.pi/2.0,0.0,0,0]).reshape(-1,1)))\n",
    "    return err\n",
    "\n",
    "def Cost(observations,u_list,Q,R,x_ref):\n",
    "    steps = observations.shape[1]\n",
    "    loss = 0\n",
    "    for s in range(steps):\n",
    "        if s!=steps-1:\n",
    "            ucost = np.dot(np.dot(u_list[s].T,R),u_list[s])\n",
    "            loss += ucost[0,0]\n",
    "        xcost = np.dot(np.dot((observations[:,s]-x_ref).T,Q),(observations[:,s]-x_ref))\n",
    "        loss += xcost[0,0]\n",
    "    return loss"
   ]
  },
  {
   "cell_type": "code",
   "execution_count": 20,
   "metadata": {},
   "outputs": [
    {
     "name": "stdout",
     "output_type": "stream",
     "text": [
      "0.013181000149513178 2905.532678423733\n"
     ]
    },
    {
     "data": {
      "image/png": "[encoded data removed]",
      "text/plain": [
       "<Figure size 432x288 with 1 Axes>"
      ]
     },
     "metadata": {
      "needs_background": "light"
     },
     "output_type": "display_data"
    }
   ],
   "source": [
    "Ad = state_dict['lA.weight'].cpu().numpy()\n",
    "Bd = state_dict['lB.weight'].cpu().numpy()\n",
    "env = Data_collect.env\n",
    "env.reset()\n",
    "import lqr\n",
    "import time\n",
    "Ad = np.matrix(Ad)\n",
    "Bd = np.matrix(Bd)\n",
    "Q,R,reset_state,x_ref = Prepare_LQR(env_name)\n",
    "reset_state=  [0.1,0.1,0.0,0.0]\n",
    "uval = 1.5\n",
    "Kopt = lqr.lqr_regulator_k(Ad,Bd,Q,uval*R)\n",
    "observation_list = []\n",
    "observation = env.reset_state(reset_state)\n",
    "x0 = np.matrix(Psi_o(observation,net))\n",
    "x_ref_lift = Psi_o(x_ref,net)\n",
    "observation_list.append(x0[:Nstate].reshape(-1,1))\n",
    "# print(Kopt)\n",
    "u_list = []\n",
    "steps = 200\n",
    "# umax = 100\n",
    "for i in range(steps):\n",
    "    # env.render()\n",
    "    u = -Kopt*(x0-x_ref_lift)\n",
    "    u = u.reshape(-1)\n",
    "    gu = net.bilinear_net(torch.DoubleTensor(x0[:Nstate].reshape(1,-1))).detach().numpy().reshape(-1)\n",
    "    ureal = u/gu\n",
    "    ureal = ureal.reshape(-1)\n",
    "    # print(ureal)\n",
    "    # raise NotImplementedError\n",
    "    # u = max(-umax,min(umax,u[0,0]))\n",
    "    # print(type(u[0,0]),type(u))\n",
    "    observation, reward, done, info = env.step(ureal)\n",
    "    x0 = np.matrix(Psi_o(observation,net))\n",
    "    # x0 = Ad*x0+Bd*u\n",
    "    observation_list.append(x0[:Nstate].reshape(-1,1))\n",
    "    u_list.append(ureal)\n",
    "    # time.sleep(0.1)\n",
    "\n",
    "observations = np.concatenate(observation_list,axis=1)\n",
    "u_list = np.array(u_list).reshape(-1)\n",
    "np.save(\"SingleControlResults/\"+env_name+\"_\"+method+\"_obs.npy\",observations)\n",
    "Err = criterion(env_name,observations)\n",
    "loss = Cost(observations,u_list,Q[:Nstate,:Nstate],0.0001*R,x_ref)\n",
    "print(Err,loss)\n",
    "time_history = np.arange(steps+1)*env.dt\n",
    "for i in range(Nstate):\n",
    "    plt.plot(time_history, observations[i,:].reshape(-1,1), label=\"x{}\".format(i))\n",
    "plt.grid(True)\n",
    "plt.title(\"LQR Regulator\")\n",
    "plt.legend()\n",
    "plt.savefig(\"SingleControlResults/\"+env_name+\"_\"+method+\".png\")\n",
    "plt.show()"
   ]
  }
 ],
 "metadata": {
  "interpreter": {
   "hash": "a4d06311c44a4bca643a5b6bd1fed619513a1bbcc6119049a755b6c84aad7bef"
  },
  "kernelspec": {
   "display_name": "Python 3.7.12 64-bit ('mujoco': conda)",
   "language": "python",
   "name": "python3"
  },
  "language_info": {
   "codemirror_mode": {
    "name": "ipython",
    "version": 3
   },
   "file_extension": ".py",
   "mimetype": "text/x-python",
   "name": "python",
   "nbconvert_exporter": "python",
   "pygments_lexer": "ipython3",
   "version": "3.7.12"
  },
  "orig_nbformat": 4
 },
 "nbformat": 4,
 "nbformat_minor": 2
}
