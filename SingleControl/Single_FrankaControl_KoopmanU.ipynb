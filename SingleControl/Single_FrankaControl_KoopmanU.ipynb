{
 "cells": [
  {
   "cell_type": "code",
   "execution_count": 14,
   "metadata": {},
   "outputs": [],
   "source": [
    "import torch\n",
    "import numpy as np\n",
    "import torch.nn as nn\n",
    "import torch.nn.functional as F\n",
    "import gym\n",
    "import matplotlib.pyplot as plt\n",
    "import random\n",
    "import argparse\n",
    "from collections import OrderedDict\n",
    "from copy import copy\n",
    "import scipy\n",
    "import scipy.linalg\n",
    "from Utility import data_collecter\n",
    "import os\n",
    "import lqr\n",
    "import pybullet as pb\n",
    "import pybullet_data\n",
    "import math\n",
    "os.environ['KMP_DUPLICATE_LIB_OK'] = \"TRUE\"\n",
    "# Franka simulator\n",
    "from franka_env import FrankaEnv"
   ]
  },
  {
   "cell_type": "code",
   "execution_count": 15,
   "metadata": {},
   "outputs": [],
   "source": [
    "Methods = [\"KoopmanDerivative\",\"KoopmanRBF\",\\\n",
    "            \"KNonlinear\",\"KNonlinearRNN\",\"KoopmanU\",\\\n",
    "            \"KoopmanNonlinearA\",\"KoopmanNonlinear\",\\\n",
    "                ]\n",
    "method_index = 4\n",
    "# suffix = \"CartPole1_26\"\n",
    "# env_name = \"CartPole-v1\"\n",
    "# suffix = \"Pendulum1_26\"\n",
    "# env_name = \"Pendulum-v1\"\n",
    "# suffix = \"DampingPendulum1_26\"\n",
    "# env_name = \"DampingPendulum\"\n",
    "# suffix = \"MountainCarContinuous1_26\"\n",
    "# env_name = \"MountainCarContinuous-v0\"\n",
    "# suffix = \"Reacher2_2\"\n",
    "# env_name = \"Reacher-v2\"\n",
    "# suffix = \"TwoLinkRobot2_9\"\n",
    "# env_name = \"TwoLinkRobot\"\n",
    "suffix = \"Franka2_11\"\n",
    "env_name = \"Franka\""
   ]
  },
  {
   "cell_type": "code",
   "execution_count": 16,
   "metadata": {},
   "outputs": [
    {
     "name": "stdout",
     "output_type": "stream",
     "text": [
      "KoopmanU\n",
      "b3Warning[examples/Importers/ImportURDFDemo/BulletUrdfImporter.cpp,126]:\n",
      "No inertial data for link, using mass=1, localinertiadiagonal = 1,1,1, identity local inertial frameb3Warning[examples/Importers/ImportURDFDemo/BulletUrdfImporter.cpp,126]:\n",
      "panda_link0b3Warning[examples/Importers/ImportURDFDemo/BulletUrdfImporter.cpp,126]:\n",
      "No inertial data for link, using mass=1, localinertiadiagonal = 1,1,1, identity local inertial frameb3Warning[examples/Importers/ImportURDFDemo/BulletUrdfImporter.cpp,126]:\n",
      "panda_link1b3Warning[examples/Importers/ImportURDFDemo/BulletUrdfImporter.cpp,126]:\n",
      "No inertial data for link, using mass=1, localinertiadiagonal = 1,1,1, identity local inertial frameb3Warning[examples/Importers/ImportURDFDemo/BulletUrdfImporter.cpp,126]:\n",
      "panda_link2b3Warning[examples/Importers/ImportURDFDemo/BulletUrdfImporter.cpp,126]:\n",
      "No inertial data for link, using mass=1, localinertiadiagonal = 1,1,1, identity local inertial frameb3Warning[examples/Importers/ImportURDFDemo/BulletUrdfImporter.cpp,126]:\n",
      "panda_link3b3Warning[examples/Importers/ImportURDFDemo/BulletUrdfImporter.cpp,126]:\n",
      "No inertial data for link, using mass=1, localinertiadiagonal = 1,1,1, identity local inertial frameb3Warning[examples/Importers/ImportURDFDemo/BulletUrdfImporter.cpp,126]:\n",
      "panda_link4b3Warning[examples/Importers/ImportURDFDemo/BulletUrdfImporter.cpp,126]:\n",
      "No inertial data for link, using mass=1, localinertiadiagonal = 1,1,1, identity local inertial frameb3Warning[examples/Importers/ImportURDFDemo/BulletUrdfImporter.cpp,126]:\n",
      "panda_link5b3Warning[examples/Importers/ImportURDFDemo/BulletUrdfImporter.cpp,126]:\n",
      "No inertial data for link, using mass=1, localinertiadiagonal = 1,1,1, identity local inertial frameb3Warning[examples/Importers/ImportURDFDemo/BulletUrdfImporter.cpp,126]:\n",
      "panda_link6b3Warning[examples/Importers/ImportURDFDemo/BulletUrdfImporter.cpp,126]:\n",
      "No inertial data for link, using mass=1, localinertiadiagonal = 1,1,1, identity local inertial frameb3Warning[examples/Importers/ImportURDFDemo/BulletUrdfImporter.cpp,126]:\n",
      "panda_link7b3Warning[examples/Importers/ImportURDFDemo/BulletUrdfImporter.cpp,126]:\n",
      "No inertial data for link, using mass=1, localinertiadiagonal = 1,1,1, identity local inertial frameb3Warning[examples/Importers/ImportURDFDemo/BulletUrdfImporter.cpp,126]:\n",
      "panda_handb3Warning[examples/Importers/ImportURDFDemo/BulletUrdfImporter.cpp,126]:\n",
      "No inertial data for link, using mass=1, localinertiadiagonal = 1,1,1, identity local inertial frameb3Warning[examples/Importers/ImportURDFDemo/BulletUrdfImporter.cpp,126]:\n",
      "panda_leftfingerb3Warning[examples/Importers/ImportURDFDemo/BulletUrdfImporter.cpp,126]:\n",
      "No inertial data for link, using mass=1, localinertiadiagonal = 1,1,1, identity local inertial frameb3Warning[examples/Importers/ImportURDFDemo/BulletUrdfImporter.cpp,126]:\n",
      "panda_rightfinger"
     ]
    },
    {
     "data": {
      "text/plain": [
       "Network(\n",
       "  (encode_net): Sequential(\n",
       "    (linear_0): Linear(in_features=17, out_features=128, bias=True)\n",
       "    (relu_0): ReLU()\n",
       "    (linear_1): Linear(in_features=128, out_features=128, bias=True)\n",
       "    (relu_1): ReLU()\n",
       "    (linear_2): Linear(in_features=128, out_features=128, bias=True)\n",
       "    (relu_2): ReLU()\n",
       "    (linear_3): Linear(in_features=128, out_features=20, bias=True)\n",
       "  )\n",
       "  (lA): Linear(in_features=37, out_features=37, bias=False)\n",
       "  (lB): Linear(in_features=7, out_features=37, bias=False)\n",
       ")"
      ]
     },
     "execution_count": 16,
     "metadata": {},
     "output_type": "execute_result"
    }
   ],
   "source": [
    "method = Methods[method_index]\n",
    "root_path = \"../Data/\"+suffix\n",
    "print(method)\n",
    "if method.endswith(\"KNonlinear\"):\n",
    "    import Learn_Knonlinear as lka\n",
    "elif method.endswith(\"KNonlinearRNN\"):\n",
    "    import Learn_Knonlinear_RNN as lka\n",
    "elif method.endswith(\"KoopmanNonlinear\"):\n",
    "    import Learn_KoopmanNonlinear_with_KlinearEig as lka\n",
    "elif method.endswith(\"KoopmanNonlinearA\"):\n",
    "    import Learn_KoopmanNonlinearA_with_KlinearEig as lka\n",
    "elif method.endswith(\"KoopmanU\"):\n",
    "    import Learn_Koopman_with_KlinearEig as lka\n",
    "for file in os.listdir(root_path):\n",
    "    if file.startswith(method+\"_\") and file.endswith(\".pth\"):\n",
    "        model_path = file  \n",
    "Data_collect = data_collecter(env_name)\n",
    "udim = Data_collect.udim\n",
    "Nstate = Data_collect.Nstates\n",
    "layer_depth = 3\n",
    "layer_width = 128\n",
    "dicts = torch.load(root_path+\"/\"+model_path)\n",
    "state_dict = dicts[\"model\"]\n",
    "if method.endswith(\"KNonlinear\"):\n",
    "    Elayer = dicts[\"Elayer\"]\n",
    "    net = lka.Network(layers=Elayer,u_dim=udim)\n",
    "elif method.endswith(\"KNonlinearRNN\"):\n",
    "    net = lka.Network(input_size=udim+Nstate,output_size=Nstate,hidden_dim=layer_width, n_layers=layer_depth-1)\n",
    "elif method.endswith(\"KoopmanNonlinear\") or method.endswith(\"KoopmanNonlinearA\"):\n",
    "    layer = dicts[\"layer\"]\n",
    "    blayer = dicts[\"blayer\"]\n",
    "    NKoopman = layer[-1]+Nstate\n",
    "    net = lka.Network(layer,blayer,NKoopman,udim)\n",
    "elif method.endswith(\"KoopmanU\"):\n",
    "    layer = dicts[\"layer\"]\n",
    "    NKoopman = layer[-1]+Nstate\n",
    "    net = lka.Network(layer,NKoopman,udim)  \n",
    "net.load_state_dict(state_dict)\n",
    "device = torch.device(\"cpu\")\n",
    "net.cpu()\n",
    "net.double()"
   ]
  },
  {
   "cell_type": "code",
   "execution_count": 17,
   "metadata": {},
   "outputs": [
    {
     "name": "stdout",
     "output_type": "stream",
     "text": [
      "The max eigen of Kd is (1.0000546825541883+3.5746650399579706e-05j)\n"
     ]
    }
   ],
   "source": [
    "Ad = state_dict['lA.weight'].cpu().numpy()\n",
    "Bd = state_dict['lB.weight'].cpu().numpy()\n",
    "eig = scipy.linalg.eigvals(Ad)\n",
    "# print(\"Eigs of the matrix:{}\".format(eig))\n",
    "print(\"The max eigen of Kd is {}\".format(max(eig)) )"
   ]
  },
  {
   "cell_type": "code",
   "execution_count": 18,
   "metadata": {},
   "outputs": [
    {
     "name": "stdout",
     "output_type": "stream",
     "text": [
      "b3Warning[examples/Importers/ImportURDFDemo/BulletUrdfImporter.cpp,126]:\n",
      "No inertial data for link, using mass=1, localinertiadiagonal = 1,1,1, identity local inertial frameb3Warning[examples/Importers/ImportURDFDemo/BulletUrdfImporter.cpp,126]:\n",
      "panda_link0b3Warning[examples/Importers/ImportURDFDemo/BulletUrdfImporter.cpp,126]:\n",
      "No inertial data for link, using mass=1, localinertiadiagonal = 1,1,1, identity local inertial frameb3Warning[examples/Importers/ImportURDFDemo/BulletUrdfImporter.cpp,126]:\n",
      "panda_link1b3Warning[examples/Importers/ImportURDFDemo/BulletUrdfImporter.cpp,126]:\n",
      "No inertial data for link, using mass=1, localinertiadiagonal = 1,1,1, identity local inertial frameb3Warning[examples/Importers/ImportURDFDemo/BulletUrdfImporter.cpp,126]:\n",
      "panda_link2b3Warning[examples/Importers/ImportURDFDemo/BulletUrdfImporter.cpp,126]:\n",
      "No inertial data for link, using mass=1, localinertiadiagonal = 1,1,1, identity local inertial frameb3Warning[examples/Importers/ImportURDFDemo/BulletUrdfImporter.cpp,126]:\n",
      "panda_link3b3Warning[examples/Importers/ImportURDFDemo/BulletUrdfImporter.cpp,126]:\n",
      "No inertial data for link, using mass=1, localinertiadiagonal = 1,1,1, identity local inertial frameb3Warning[examples/Importers/ImportURDFDemo/BulletUrdfImporter.cpp,126]:\n",
      "panda_link4b3Warning[examples/Importers/ImportURDFDemo/BulletUrdfImporter.cpp,126]:\n",
      "No inertial data for link, using mass=1, localinertiadiagonal = 1,1,1, identity local inertial frameb3Warning[examples/Importers/ImportURDFDemo/BulletUrdfImporter.cpp,126]:\n",
      "panda_link5b3Warning[examples/Importers/ImportURDFDemo/BulletUrdfImporter.cpp,126]:\n",
      "No inertial data for link, using mass=1, localinertiadiagonal = 1,1,1, identity local inertial frameb3Warning[examples/Importers/ImportURDFDemo/BulletUrdfImporter.cpp,126]:\n",
      "panda_link6b3Warning[examples/Importers/ImportURDFDemo/BulletUrdfImporter.cpp,126]:\n",
      "No inertial data for link, using mass=1, localinertiadiagonal = 1,1,1, identity local inertial frameb3Warning[examples/Importers/ImportURDFDemo/BulletUrdfImporter.cpp,126]:\n",
      "panda_link7b3Warning[examples/Importers/ImportURDFDemo/BulletUrdfImporter.cpp,126]:\n",
      "No inertial data for link, using mass=1, localinertiadiagonal = 1,1,1, identity local inertial frameb3Warning[examples/Importers/ImportURDFDemo/BulletUrdfImporter.cpp,126]:\n",
      "panda_handb3Warning[examples/Importers/ImportURDFDemo/BulletUrdfImporter.cpp,126]:\n",
      "No inertial data for link, using mass=1, localinertiadiagonal = 1,1,1, identity local inertial frameb3Warning[examples/Importers/ImportURDFDemo/BulletUrdfImporter.cpp,126]:\n",
      "panda_leftfingerb3Warning[examples/Importers/ImportURDFDemo/BulletUrdfImporter.cpp,126]:\n",
      "No inertial data for link, using mass=1, localinertiadiagonal = 1,1,1, identity local inertial frameb3Warning[examples/Importers/ImportURDFDemo/BulletUrdfImporter.cpp,126]:\n",
      "panda_rightfinger"
     ]
    },
    {
     "data": {
      "text/plain": [
       "Text(0, 0.5, 'z (m)')"
      ]
     },
     "execution_count": 18,
     "metadata": {},
     "output_type": "execute_result"
    },
    {
     "data": {
      "image/png": "[encoded data removed]",
      "text/plain": [
       "<Figure size 432x288 with 1 Axes>"
      ]
     },
     "metadata": {
      "needs_background": "light"
     },
     "output_type": "display_data"
    }
   ],
   "source": [
    "env = FrankaEnv(render = False)\n",
    "env.reset()\n",
    "nStates = 10\n",
    "accuracy_invKin = 0.000001\n",
    "T = 6 *10 # time horizon \n",
    "t = 1.6 + 0.02*np.linspace(0, T*5, T*50+1) # time steps\n",
    "Steps = len(t)-1\n",
    "\n",
    "\n",
    "a = 0.3 # scaling parameter of Fig. 8 area\n",
    "x = 0.3*np.ones((len(t),1)) \n",
    "z = np.expand_dims(0.59 + 2* a * np.sin(t) * np.cos(t) / (1+np.sin(t)**2), axis = 1)\n",
    "y = np.expand_dims(a * np.cos(t) / (1+np.sin(t)**2), axis = 1)\n",
    "plt.plot(y,z)\n",
    "plt.axis('equal')\n",
    "plt.xlabel('y (m)')\n",
    "plt.ylabel('z (m)')"
   ]
  },
  {
   "cell_type": "code",
   "execution_count": 19,
   "metadata": {},
   "outputs": [],
   "source": [
    "def Obs(o):\n",
    "    return np.concatenate((o[:3],o[7:]),axis=0)\n",
    "\n",
    "def Psi_o(s,net): # Evaluates basis functions Ψ(s(t_k))\n",
    "    psi = np.zeros([NKoopman,1])\n",
    "    ds = net.encode(torch.DoubleTensor(s)).detach().cpu().numpy()\n",
    "    psi[:NKoopman,0] = ds\n",
    "    return psi"
   ]
  },
  {
   "cell_type": "code",
   "execution_count": 20,
   "metadata": {},
   "outputs": [],
   "source": [
    "def quat_to_euler(q):\n",
    "    \"\"\" \n",
    "    Function that converts quaternions to Euler angles\n",
    "    \n",
    "    Inputs\n",
    "    ------\n",
    "    q : quaternions\n",
    "    \n",
    "    Outputs\n",
    "    -------\n",
    "    \n",
    "    phi, theta, psi : Euler angles\n",
    "    \"\"\"\n",
    "    pi = math.pi\n",
    "    q0, q1, q2, q3 = q[3], q[0], q[1], q[2]\n",
    "    test = np.dot(q0,q2) - np.dot(q1,q3)\n",
    "    if (test > 0.4999): \n",
    "        phi = math.atan2(q1*q2 - q0*q3, q1*q3 + q0*q2)\n",
    "        theta = pi/2\n",
    "        psi= 0\n",
    "    elif (test < -0.4999):\n",
    "        phi = math.atan2(- q1*q2 + q0*q3, - q1*q3 - q0*q2)\n",
    "        theta = -pi/2\n",
    "        psi = 0\n",
    "    else:\n",
    "        sqx = q1*q1\n",
    "        sqy = q2*q2\n",
    "        sqz = q3*q3\n",
    "        \n",
    "        psi = math.atan2(2*q2*q1+2*q0*q3 , 1 - 2*sqy - 2*sqz) # Yaw\n",
    "        theta = math.asin(2*test) # Pitch\n",
    "        phi = math.atan2(2*q2*q3+2*q0*q1 , 1 - 2*sqx - 2*sqy) # Roll\n",
    "    return phi, theta, psi\n",
    "\n",
    "def Psi_x(x): \n",
    "    return x\n",
    "\n",
    "def Run_Franka(Steps, state_desired, LQR_gains,net, x0 = None, y0 = None, z0 = None):\n",
    "    \"\"\"\n",
    "    Function that simulates forward the dynamics of Franka using LQR control, \n",
    "    given a desired trajectory and LQR gains\n",
    "    \n",
    "    Inputs\n",
    "    ------\n",
    "    Steps : Number of steps to propagate discrete dynamics into the future\n",
    "    state_desired: desired trajectory to track (used for the applied control)\n",
    "    LQR_gains: LQR gains used together with the current state and desired trajectory \n",
    "            to compute control response\n",
    "            \n",
    "    Outputs\n",
    "    -------\n",
    "    state_traj : state trajectory of the controlled system\n",
    "    control_traj : control trajectory that was applied to the system\n",
    "    \"\"\"\n",
    "    state = env.reset()\n",
    "    \n",
    "    # Set state to desired state to help initiation\n",
    "    for i, jnt in enumerate(state_desired[0,3:9]):\n",
    "            pb.resetJointState(env.robot, i, jnt)\n",
    "    \n",
    "    # set initial y,z states to given y0, z0\n",
    "    if x0:\n",
    "        JointAngles_Fig8 = accurateCalculateInverseKinematics(env.robot, env.ee_id, [x0, y0, z0], accuracy_invKin, 10000)\n",
    "        for i, jnt in enumerate(JointAngles_Fig8[0:6]):\n",
    "            pb.resetJointState(env.robot, i, jnt)\n",
    "\n",
    "    state = env.get_state()\n",
    "\n",
    "    # Initialize states and controls trajectories\n",
    "    state_traj, control_traj = np.empty((Steps+1,NKoopman)), np.empty((Steps, 7))\n",
    "    state_traj[:], control_traj[:] = np.NaN,  np.NaN\n",
    "    \n",
    "    # Simulate dynamics forward\n",
    "    for t in range(Steps):\n",
    "        state = Obs(state)\n",
    "        state = Psi_o(state,net)\n",
    "        state_traj[t, :] = state[:NKoopman].reshape(-1)\n",
    "        \n",
    "        control = - np.dot(LQR_gains, (state - Psi_o(state_desired[t+1,:],net)))\n",
    "        control_traj[t, :] = control.reshape(-1)\n",
    "        state = env.step(control)\n",
    "#         time.sleep(1.0/6000.)\n",
    "#         time.sleep(1.0/600000.)\n",
    "    \n",
    "    state = Obs(state)\n",
    "    state = Psi_o(state,net)\n",
    "    state_traj[t+1, :] = state[:NKoopman].reshape(-1)\n",
    "    return state_traj, control_traj\n",
    "\n",
    "def accurateCalculateInverseKinematics(kukaId, endEffectorId, targetPos, threshold, maxIter):\n",
    "    \"\"\"\n",
    "    Calculates the joint poses given the End Effector location using inverse kinematics\n",
    "    Note: It changes the Franka configuration during the optimization to the desired configuration\n",
    "    \n",
    "    Input: \n",
    "    kukaId : Object that represents the Franka system\n",
    "    endEffectorId : \n",
    "    targetPos : \n",
    "    threshold : accuracy threshold\n",
    "    maxIter : maximum iterations to fine tune solution\n",
    "    \n",
    "    Output: \n",
    "    jointPoses: The angles of the 7 joints of the Franka \n",
    "    \"\"\"\n",
    "    numJoints = 7\n",
    "    closeEnough = False\n",
    "    iter = 0\n",
    "    dist2 = 1e30\n",
    "    while (not closeEnough and iter < maxIter):\n",
    "        jointPoses = pb.calculateInverseKinematics(kukaId, endEffectorId, targetPos)\n",
    "    \n",
    "        for i in range(numJoints):\n",
    "            pb.resetJointState(kukaId, i, jointPoses[i])\n",
    "        ls = pb.getLinkState(kukaId, endEffectorId)\n",
    "        newPos = ls[4]\n",
    "        diff = [targetPos[0] - newPos[0], targetPos[1] - newPos[1], targetPos[2] - newPos[2]]\n",
    "        dist2 = (diff[0] * diff[0] + diff[1] * diff[1] + diff[2] * diff[2])\n",
    "        closeEnough = (dist2 < threshold)\n",
    "        iter = iter + 1\n",
    "    return jointPoses[:7]\n",
    "\n",
    "def runLQRonFranka(steps, desired_target, LQR_gains,net, x0 = None, y0 = None, z0 = None, method = False):\n",
    "    \"\"\"\n",
    "    Executes a simulation of specified number of steps applying LQR on Franka with the input LQR gains\n",
    "        \n",
    "    Inputs\n",
    "    ------\n",
    "    steps : number of steps to forward simulate the system\n",
    "    desired_target : desired_trajectory to track\n",
    "    LQR_gains : LQR gains used to compute control\n",
    "    method : method to print on pdf label; if none is specified, no pdf is created\n",
    "\"\"\"\n",
    "    state_traj, controls_traj = Run_Franka(steps, desired_target, LQR_gains,net, x0, y0, z0)\n",
    "\n",
    "    error = np.linalg.norm(state_traj[:,:nStates] - desired_target[:,:nStates])\n",
    "    if method:\n",
    "        fig = plt.plot(state_traj[:,1], state_traj[:,2], 'b-', linewidth = 1, markersize = 1)\n",
    "        plt.plot(desired_target[:,1], desired_target[:,2], 'k--', linewidth = 1)\n",
    "        plt.axis('equal')\n",
    "        plt.title(method +': Error = {0:.2f}'.format(error), fontdict=None, loc='center', pad=None)\n",
    "    return state_traj, controls_traj, error\n",
    "\n",
    "def desiredStates_from_EndEffector(xyzEndEffector):\n",
    "    \"\"\"\n",
    "    This function takes in the x,y,z coordinates of the end effector (EE) of Franka \n",
    "    and returns the closest (locally, using Inverse Kinematics) desired configuration\n",
    "    to achieve that EE position . \n",
    "    \n",
    "    Inputs\n",
    "    ------\n",
    "    x_d, y_d, z_d: End effector coordinates\n",
    "    \n",
    "    Outputs\n",
    "    desired_states: x, y, z, JointAngles, Joint Velocities\n",
    "    \"\"\"\n",
    "    x_d, y_d, z_d = xyzEndEffector[0], xyzEndEffector[1], xyzEndEffector[2]\n",
    "    jointAngles = np.asarray(accurateCalculateInverseKinematics(env.robot, env.ee_id, [x_d, y_d, z_d], accuracy_invKin, 10000))\n",
    "    state_des = np.concatenate((xyzEndEffector, jointAngles, np.zeros(7)))\n",
    "\n",
    "    return state_des"
   ]
  },
  {
   "cell_type": "code",
   "execution_count": 21,
   "metadata": {},
   "outputs": [],
   "source": [
    "# Translate desired y-z coordinates to desired joint angles of the Franka robotic arm\n",
    "JointAngles_Fig8 = np.empty((len(t),7))\n",
    "JointAngles_Fig8[:] = np.NaN\n",
    "for i in range(len(t)):\n",
    "    JointAngles_Fig8[i,:] = accurateCalculateInverseKinematics(env.robot, env.ee_id, [x[i], y[i], z[i]], accuracy_invKin, 10000)\n",
    "states_des = np.concatenate( (x, y, z, JointAngles_Fig8, np.zeros((len(y), 7))), axis = 1)\n",
    "# states_des = np.concatenate((x,y,z), axis = 1)\n"
   ]
  },
  {
   "cell_type": "code",
   "execution_count": 22,
   "metadata": {},
   "outputs": [
    {
     "name": "stdout",
     "output_type": "stream",
     "text": [
      "(7, 37)\n"
     ]
    }
   ],
   "source": [
    "##LQR\n",
    "import lqr\n",
    "import time\n",
    "Ad = state_dict['lA.weight'].cpu().numpy()\n",
    "Bd = state_dict['lB.weight'].cpu().numpy()\n",
    "Ad = np.matrix(Ad)\n",
    "Bd = np.matrix(Bd)\n",
    "Q = np.zeros((NKoopman,NKoopman))\n",
    "Q[:10,:10] = np.eye(10)\n",
    "R = 0.1*np.eye(7)\n",
    "Q = np.matrix(Q)\n",
    "R = np.matrix(R)\n",
    "Kopt = lqr.lqr_regulator_k(Ad,Bd,Q,R)\n",
    "print(Kopt.shape)"
   ]
  },
  {
   "cell_type": "code",
   "execution_count": 23,
   "metadata": {},
   "outputs": [],
   "source": [
    "y0, z0 = y[0,0] + np.random.uniform(-0.1, 0.1, 1), z[0,0] + np.random.uniform(-0.1, 0.1, 1)\n",
    "state_traj_KP, controls_traj_KP, error_KP = runLQRonFranka(Steps, states_des, Kopt,net, x[0,0], y0, z0)"
   ]
  },
  {
   "cell_type": "code",
   "execution_count": 24,
   "metadata": {},
   "outputs": [
    {
     "data": {
      "image/png": "[encoded data removed]",
      "text/plain": [
       "<Figure size 432x288 with 1 Axes>"
      ]
     },
     "metadata": {
      "needs_background": "light"
     },
     "output_type": "display_data"
    }
   ],
   "source": [
    "plt.plot(states_des[:,1],states_des[:,2],label='Desired')\n",
    "plt.plot(state_traj_KP[:,1],state_traj_KP[:,2],label='KP')\n",
    "plt.legend()\n",
    "plt.show()"
   ]
  }
 ],
 "metadata": {
  "kernelspec": {
   "display_name": "Python 3",
   "language": "python",
   "name": "python3"
  },
  "language_info": {
   "codemirror_mode": {
    "name": "ipython",
    "version": 3
   },
   "file_extension": ".py",
   "mimetype": "text/x-python",
   "name": "python",
   "nbconvert_exporter": "python",
   "pygments_lexer": "ipython3",
   "version": "3.7.12"
  }
 },
 "nbformat": 4,
 "nbformat_minor": 4
}
