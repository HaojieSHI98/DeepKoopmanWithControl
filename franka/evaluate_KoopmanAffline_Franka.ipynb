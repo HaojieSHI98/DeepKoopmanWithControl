{
 "cells": [
  {
   "cell_type": "code",
   "execution_count": 1,
   "metadata": {},
   "outputs": [
    {
     "name": "stderr",
     "output_type": "stream",
     "text": [
      "pybullet build time: Dec  1 2021 18:33:43\n"
     ]
    }
   ],
   "source": [
    "import torch\n",
    "import numpy as np\n",
    "import torch.nn as nn\n",
    "import torch.nn.functional as F\n",
    "import gym\n",
    "import matplotlib.pyplot as plt\n",
    "import random\n",
    "import argparse\n",
    "from collections import OrderedDict\n",
    "from copy import copy\n",
    "import Learn_Koopman_with_Klinear_Franka as lka\n",
    "import scipy\n",
    "import scipy.linalg\n",
    "from scipy.integrate import odeint\n",
    "import pybullet as pb\n",
    "import pybullet_data\n",
    "import math\n",
    "import sys\n",
    "sys.path.append(\"../utility\")\n",
    "# Franka simulator\n",
    "from franka_env import FrankaEnv"
   ]
  },
  {
   "cell_type": "code",
   "execution_count": 2,
   "metadata": {},
   "outputs": [
    {
     "name": "stdout",
     "output_type": "stream",
     "text": [
      "b3Warning[examples/Importers/ImportURDFDemo/BulletUrdfImporter.cpp,126]:\n",
      "No inertial data for link, using mass=1, localinertiadiagonal = 1,1,1, identity local inertial frameb3Warning[examples/Importers/ImportURDFDemo/BulletUrdfImporter.cpp,126]:\n",
      "panda_link0b3Warning[examples/Importers/ImportURDFDemo/BulletUrdfImporter.cpp,126]:\n",
      "No inertial data for link, using mass=1, localinertiadiagonal = 1,1,1, identity local inertial frameb3Warning[examples/Importers/ImportURDFDemo/BulletUrdfImporter.cpp,126]:\n",
      "panda_link1b3Warning[examples/Importers/ImportURDFDemo/BulletUrdfImporter.cpp,126]:\n",
      "No inertial data for link, using mass=1, localinertiadiagonal = 1,1,1, identity local inertial frameb3Warning[examples/Importers/ImportURDFDemo/BulletUrdfImporter.cpp,126]:\n",
      "panda_link2b3Warning[examples/Importers/ImportURDFDemo/BulletUrdfImporter.cpp,126]:\n",
      "No inertial data for link, using mass=1, localinertiadiagonal = 1,1,1, identity local inertial frameb3Warning[examples/Importers/ImportURDFDemo/BulletUrdfImporter.cpp,126]:\n",
      "panda_link3b3Warning[examples/Importers/ImportURDFDemo/BulletUrdfImporter.cpp,126]:\n",
      "No inertial data for link, using mass=1, localinertiadiagonal = 1,1,1, identity local inertial frameb3Warning[examples/Importers/ImportURDFDemo/BulletUrdfImporter.cpp,126]:\n",
      "panda_link4b3Warning[examples/Importers/ImportURDFDemo/BulletUrdfImporter.cpp,126]:\n",
      "No inertial data for link, using mass=1, localinertiadiagonal = 1,1,1, identity local inertial frameb3Warning[examples/Importers/ImportURDFDemo/BulletUrdfImporter.cpp,126]:\n",
      "panda_link5b3Warning[examples/Importers/ImportURDFDemo/BulletUrdfImporter.cpp,126]:\n",
      "No inertial data for link, using mass=1, localinertiadiagonal = 1,1,1, identity local inertial frameb3Warning[examples/Importers/ImportURDFDemo/BulletUrdfImporter.cpp,126]:\n",
      "panda_link6b3Warning[examples/Importers/ImportURDFDemo/BulletUrdfImporter.cpp,126]:\n",
      "No inertial data for link, using mass=1, localinertiadiagonal = 1,1,1, identity local inertial frameb3Warning[examples/Importers/ImportURDFDemo/BulletUrdfImporter.cpp,126]:\n",
      "panda_link7b3Warning[examples/Importers/ImportURDFDemo/BulletUrdfImporter.cpp,126]:\n",
      "No inertial data for link, using mass=1, localinertiadiagonal = 1,1,1, identity local inertial frameb3Warning[examples/Importers/ImportURDFDemo/BulletUrdfImporter.cpp,126]:\n",
      "panda_handb3Warning[examples/Importers/ImportURDFDemo/BulletUrdfImporter.cpp,126]:\n",
      "No inertial data for link, using mass=1, localinertiadiagonal = 1,1,1, identity local inertial frameb3Warning[examples/Importers/ImportURDFDemo/BulletUrdfImporter.cpp,126]:\n",
      "panda_leftfingerb3Warning[examples/Importers/ImportURDFDemo/BulletUrdfImporter.cpp,126]:\n",
      "No inertial data for link, using mass=1, localinertiadiagonal = 1,1,1, identity local inertial frameb3Warning[examples/Importers/ImportURDFDemo/BulletUrdfImporter.cpp,126]:\n",
      "panda_rightfinger"
     ]
    },
    {
     "data": {
      "text/plain": [
       "Network(\n",
       "  (encode_net): Sequential(\n",
       "    (linear_0): Linear(in_features=17, out_features=128, bias=True)\n",
       "    (relu_0): ReLU()\n",
       "    (linear_1): Linear(in_features=128, out_features=128, bias=True)\n",
       "    (relu_1): ReLU()\n",
       "    (linear_2): Linear(in_features=128, out_features=128, bias=True)\n",
       "    (relu_2): ReLU()\n",
       "    (linear_3): Linear(in_features=128, out_features=20, bias=True)\n",
       "  )\n",
       "  (lA): Linear(in_features=37, out_features=37, bias=False)\n",
       "  (lB): Linear(in_features=7, out_features=37, bias=False)\n",
       ")"
      ]
     },
     "execution_count": 2,
     "metadata": {},
     "output_type": "execute_result"
    }
   ],
   "source": [
    "#load network\n",
    "suffix = \"1_18\"\n",
    "env_name = \"Franka\"\n",
    "layer_depth = 3\n",
    "encode_dim = 20\n",
    "gamma = 0.8\n",
    "all_loss =1 \n",
    "eloss = 0\n",
    "# env_name = \"Pendulum-v1\"\n",
    "env = FrankaEnv(render = False)\n",
    "in_dim = env.Nstates\n",
    "u_dim = env.udim\n",
    "subsuffix =suffix+\"KK_\"+env_name+\"layer{}_edim{}_sloss{}_gamma{}_aloss{}\".format(layer_depth,encode_dim,eloss,gamma,all_loss)\n",
    "# print(subsuffix)\n",
    "dicts = torch.load(subsuffix+\".pth\",map_location=torch.device('cpu'))\n",
    "state_dict = dicts[\"model\"]\n",
    "Elayer = dicts[\"layer\"]\n",
    "# print(layers)\n",
    "Nkoopman = encode_dim+in_dim\n",
    "net = lka.Network(Elayer,Nkoopman,u_dim)\n",
    "net.load_state_dict(state_dict)\n",
    "device = torch.device(\"cpu\")\n",
    "net.cpu()\n",
    "net.double()"
   ]
  },
  {
   "cell_type": "code",
   "execution_count": 3,
   "metadata": {},
   "outputs": [],
   "source": [
    "Samples = 20000 # Number of random initial conditions for both training and testing data\n",
    "ts = 0.02 # time spacing between training state measurements\n",
    "tFinal = 0.3 # time horizon --- used in measuring error\n",
    "\n",
    "NKoopman = encode_dim+in_dim # Number of basis functions (keep inside [2,4])\n",
    "Nstates = in_dim # Number of system states\n",
    "Ncontrol = u_dim # Number of system inputs\n",
    "\n",
    "timeSteps = round(tFinal/ts)+1\n",
    "\n",
    "def Psi_k(s, u,net): # Evaluates basis functions Ψ(s(t_k))\n",
    "    psi = np.zeros([NKoopman+Ncontrol,1])\n",
    "    ds = net.encode(torch.DoubleTensor(s)).detach().cpu().numpy()\n",
    "    psi[:NKoopman,0] = ds\n",
    "    psi[NKoopman:] = u\n",
    "    return psi\n",
    "\n",
    "def Psi_o(s,net): # Evaluates basis functions Ψ(s(t_k))\n",
    "    psi = np.zeros([NKoopman,1])\n",
    "    ds = net.encode(torch.DoubleTensor(s)).detach().cpu().numpy()\n",
    "    psi[:NKoopman,0] = ds\n",
    "    return psi\n",
    "\n",
    "def A_and_G(s_1, s_2, u,net): # Uses measurements s(t_k) & s(t_{k+1}) to calculate A and G\n",
    "    A = np.dot(Psi_k(s_2, u,net), Psi_k(s_1, u,net).T)\n",
    "    G = np.dot(Psi_k(s_1, u,net), Psi_k(s_1, u,net).T)\n",
    "    return A, G\n",
    "\n",
    "def A_and_G_o(s_1, s_2, u,net): # Uses measurements s(t_k) & s(t_{k+1}) to calculate A and G\n",
    "    A = np.dot(Psi_o(s_2, u,net), Psi_o(s_1, u,net).T)\n",
    "    G = np.dot(Psi_o(s_1, u,net), Psi_o(s_1, u,net).T)\n",
    "    return A, G\n",
    "\n",
    "def Obs(o):\n",
    "    noise = np.random.randn(3)*1e-1\n",
    "    return np.concatenate((o[:3]+noise,o[7:]),axis=0),noise"
   ]
  },
  {
   "cell_type": "code",
   "execution_count": 4,
   "metadata": {},
   "outputs": [
    {
     "name": "stdout",
     "output_type": "stream",
     "text": [
      "The max eigen of Kd is (1.0000546825541854+3.574665039810556e-05j)\n"
     ]
    }
   ],
   "source": [
    "Ad = state_dict['lA.weight'].cpu().numpy()\n",
    "Bd = state_dict['lB.weight'].cpu().numpy()\n",
    "eig = scipy.linalg.eigvals(Ad)\n",
    "# print(\"Eigs of the matrix:{}\".format(eig))\n",
    "print(\"The max eigen of Kd is {}\".format(max(eig)) )"
   ]
  },
  {
   "cell_type": "code",
   "execution_count": 5,
   "metadata": {},
   "outputs": [
    {
     "data": {
      "text/plain": [
       "Text(0, 0.5, 'z (m)')"
      ]
     },
     "execution_count": 5,
     "metadata": {},
     "output_type": "execute_result"
    },
    {
     "data": {
      "image/png": "[encoded data removed]",
      "text/plain": [
       "<Figure size 432x288 with 1 Axes>"
      ]
     },
     "metadata": {
      "needs_background": "light"
     },
     "output_type": "display_data"
    }
   ],
   "source": [
    "env.reset()\n",
    "nStates = 10\n",
    "accuracy_invKin = 0.000001\n",
    "T = 6 *10 # time horizon \n",
    "t = 1.6 + 0.02*np.linspace(0, T*5, T*50+1) # time steps\n",
    "Steps = len(t)-1\n",
    "\n",
    "\n",
    "a = 0.3 # scaling parameter of Fig. 8 area\n",
    "x = 0.3*np.ones((len(t),1)) \n",
    "z = np.expand_dims(0.59 + 2* a * np.sin(t) * np.cos(t) / (1+np.sin(t)**2), axis = 1)\n",
    "y = np.expand_dims(a * np.cos(t) / (1+np.sin(t)**2), axis = 1)\n",
    "plt.plot(y,z)\n",
    "plt.axis('equal')\n",
    "plt.xlabel('y (m)')\n",
    "plt.ylabel('z (m)')"
   ]
  },
  {
   "cell_type": "code",
   "execution_count": 6,
   "metadata": {},
   "outputs": [],
   "source": [
    "def quat_to_euler(q):\n",
    "    \"\"\" \n",
    "    Function that converts quaternions to Euler angles\n",
    "    \n",
    "    Inputs\n",
    "    ------\n",
    "    q : quaternions\n",
    "    \n",
    "    Outputs\n",
    "    -------\n",
    "    \n",
    "    phi, theta, psi : Euler angles\n",
    "    \"\"\"\n",
    "    pi = math.pi\n",
    "    q0, q1, q2, q3 = q[3], q[0], q[1], q[2]\n",
    "    test = np.dot(q0,q2) - np.dot(q1,q3)\n",
    "    if (test > 0.4999): \n",
    "        phi = math.atan2(q1*q2 - q0*q3, q1*q3 + q0*q2)\n",
    "        theta = pi/2\n",
    "        psi= 0\n",
    "    elif (test < -0.4999):\n",
    "        phi = math.atan2(- q1*q2 + q0*q3, - q1*q3 - q0*q2)\n",
    "        theta = -pi/2\n",
    "        psi = 0\n",
    "    else:\n",
    "        sqx = q1*q1\n",
    "        sqy = q2*q2\n",
    "        sqz = q3*q3\n",
    "        \n",
    "        psi = math.atan2(2*q2*q1+2*q0*q3 , 1 - 2*sqy - 2*sqz) # Yaw\n",
    "        theta = math.asin(2*test) # Pitch\n",
    "        phi = math.atan2(2*q2*q3+2*q0*q1 , 1 - 2*sqx - 2*sqy) # Roll\n",
    "    return phi, theta, psi\n",
    "\n",
    "def Psi_x(x): \n",
    "    return x\n",
    "\n",
    "def Run_Franka(Steps, state_desired, LQR_gains,net, x0 = None, y0 = None, z0 = None):\n",
    "    \"\"\"\n",
    "    Function that simulates forward the dynamics of Franka using LQR control, \n",
    "    given a desired trajectory and LQR gains\n",
    "    \n",
    "    Inputs\n",
    "    ------\n",
    "    Steps : Number of steps to propagate discrete dynamics into the future\n",
    "    state_desired: desired trajectory to track (used for the applied control)\n",
    "    LQR_gains: LQR gains used together with the current state and desired trajectory \n",
    "            to compute control response\n",
    "            \n",
    "    Outputs\n",
    "    -------\n",
    "    state_traj : state trajectory of the controlled system\n",
    "    control_traj : control trajectory that was applied to the system\n",
    "    \"\"\"\n",
    "    state = env.reset()\n",
    "    \n",
    "    # Set state to desired state to help initiation\n",
    "    for i, jnt in enumerate(state_desired[0,3:9]):\n",
    "            pb.resetJointState(env.robot, i, jnt)\n",
    "    \n",
    "    # set initial y,z states to given y0, z0\n",
    "    if x0:\n",
    "        JointAngles_Fig8 = accurateCalculateInverseKinematics(env.robot, env.ee_id, [x0, y0, z0], accuracy_invKin, 10000)\n",
    "        for i, jnt in enumerate(JointAngles_Fig8[0:6]):\n",
    "            pb.resetJointState(env.robot, i, jnt)\n",
    "\n",
    "    state = env.get_state()\n",
    "\n",
    "    # Initialize states and controls trajectories\n",
    "    state_traj, control_traj = np.empty((Steps+1,NKoopman)), np.empty((Steps, 7))\n",
    "    state_traj[:], control_traj[:] = np.NaN,  np.NaN\n",
    "    \n",
    "    # Simulate dynamics forward\n",
    "    for t in range(Steps):\n",
    "        state,noise = Obs(state)\n",
    "        state = Psi_o(state,net)\n",
    "        state_traj[t, :] = state[:NKoopman].reshape(-1)\n",
    "        state_traj[t, :3] -= noise\n",
    "        \n",
    "        control = - np.dot(LQR_gains, (state - Psi_o(state_desired[t+1,:],net)))\n",
    "        control_traj[t, :] = control.reshape(-1)\n",
    "        state = env.step(control)\n",
    "#         time.sleep(1.0/6000.)\n",
    "#         time.sleep(1.0/600000.)\n",
    "    \n",
    "    state,noise = Obs(state)\n",
    "    state = Psi_o(state,net)\n",
    "    state_traj[t+1, :] = state[:NKoopman].reshape(-1)\n",
    "    state_traj[t+1, :3] -= noise\n",
    "    return state_traj, control_traj\n",
    "\n",
    "def accurateCalculateInverseKinematics(kukaId, endEffectorId, targetPos, threshold, maxIter):\n",
    "    \"\"\"\n",
    "    Calculates the joint poses given the End Effector location using inverse kinematics\n",
    "    Note: It changes the Franka configuration during the optimization to the desired configuration\n",
    "    \n",
    "    Input: \n",
    "    kukaId : Object that represents the Franka system\n",
    "    endEffectorId : \n",
    "    targetPos : \n",
    "    threshold : accuracy threshold\n",
    "    maxIter : maximum iterations to fine tune solution\n",
    "    \n",
    "    Output: \n",
    "    jointPoses: The angles of the 7 joints of the Franka \n",
    "    \"\"\"\n",
    "    numJoints = 7\n",
    "    closeEnough = False\n",
    "    iter = 0\n",
    "    dist2 = 1e30\n",
    "    while (not closeEnough and iter < maxIter):\n",
    "        jointPoses = pb.calculateInverseKinematics(kukaId, endEffectorId, targetPos)\n",
    "    \n",
    "        for i in range(numJoints):\n",
    "            pb.resetJointState(kukaId, i, jointPoses[i])\n",
    "        ls = pb.getLinkState(kukaId, endEffectorId)\n",
    "        newPos = ls[4]\n",
    "        diff = [targetPos[0] - newPos[0], targetPos[1] - newPos[1], targetPos[2] - newPos[2]]\n",
    "        dist2 = (diff[0] * diff[0] + diff[1] * diff[1] + diff[2] * diff[2])\n",
    "        closeEnough = (dist2 < threshold)\n",
    "        iter = iter + 1\n",
    "    return jointPoses[:7]\n",
    "\n",
    "def runLQRonFranka(steps, desired_target, LQR_gains,net, x0 = None, y0 = None, z0 = None, method = False):\n",
    "    \"\"\"\n",
    "    Executes a simulation of specified number of steps applying LQR on Franka with the input LQR gains\n",
    "        \n",
    "    Inputs\n",
    "    ------\n",
    "    steps : number of steps to forward simulate the system\n",
    "    desired_target : desired_trajectory to track\n",
    "    LQR_gains : LQR gains used to compute control\n",
    "    method : method to print on pdf label; if none is specified, no pdf is created\n",
    "\"\"\"\n",
    "    state_traj, controls_traj = Run_Franka(steps, desired_target, LQR_gains,net, x0, y0, z0)\n",
    "\n",
    "    error = np.linalg.norm(state_traj[:,:nStates] - desired_target[:,:nStates])\n",
    "    if method:\n",
    "        fig = plt.plot(state_traj[:,1], state_traj[:,2], 'b-', linewidth = 1, markersize = 1)\n",
    "        plt.plot(desired_target[:,1], desired_target[:,2], 'k--', linewidth = 1)\n",
    "        plt.axis('equal')\n",
    "        plt.title(method +': Error = {0:.2f}'.format(error), fontdict=None, loc='center', pad=None)\n",
    "    return state_traj, controls_traj, error\n",
    "\n",
    "def desiredStates_from_EndEffector(xyzEndEffector):\n",
    "    \"\"\"\n",
    "    This function takes in the x,y,z coordinates of the end effector (EE) of Franka \n",
    "    and returns the closest (locally, using Inverse Kinematics) desired configuration\n",
    "    to achieve that EE position . \n",
    "    \n",
    "    Inputs\n",
    "    ------\n",
    "    x_d, y_d, z_d: End effector coordinates\n",
    "    \n",
    "    Outputs\n",
    "    desired_states: x, y, z, JointAngles, Joint Velocities\n",
    "    \"\"\"\n",
    "    x_d, y_d, z_d = xyzEndEffector[0], xyzEndEffector[1], xyzEndEffector[2]\n",
    "    jointAngles = np.asarray(accurateCalculateInverseKinematics(env.robot, env.ee_id, [x_d, y_d, z_d], accuracy_invKin, 10000))\n",
    "    state_des = np.concatenate((xyzEndEffector, jointAngles, np.zeros(7)))\n",
    "\n",
    "    return state_des"
   ]
  },
  {
   "cell_type": "code",
   "execution_count": 7,
   "metadata": {},
   "outputs": [],
   "source": [
    "# Translate desired y-z coordinates to desired joint angles of the Franka robotic arm\n",
    "JointAngles_Fig8 = np.empty((len(t),7))\n",
    "JointAngles_Fig8[:] = np.NaN\n",
    "for i in range(len(t)):\n",
    "    JointAngles_Fig8[i,:] = accurateCalculateInverseKinematics(env.robot, env.ee_id, [x[i], y[i], z[i]], accuracy_invKin, 10000)\n",
    "states_des = np.concatenate( (x, y, z, JointAngles_Fig8, np.zeros((len(y), 7))), axis = 1)\n",
    "# states_des = np.concatenate((x,y,z), axis = 1)\n"
   ]
  },
  {
   "cell_type": "code",
   "execution_count": 8,
   "metadata": {},
   "outputs": [
    {
     "name": "stdout",
     "output_type": "stream",
     "text": [
      "(7, 37)\n"
     ]
    }
   ],
   "source": [
    "##LQR\n",
    "import lqr\n",
    "import time\n",
    "Ad = state_dict['lA.weight'].cpu().numpy()\n",
    "Bd = state_dict['lB.weight'].cpu().numpy()\n",
    "Ad = np.matrix(Ad)\n",
    "Bd = np.matrix(Bd)\n",
    "Q = np.zeros((NKoopman,NKoopman))\n",
    "Q[:10,:10] = np.eye(10)\n",
    "R = 0.1*np.eye(7)\n",
    "Q = np.matrix(Q)\n",
    "R = np.matrix(R)\n",
    "Kopt = lqr.lqr_regulator_k(Ad,Bd,Q,R)\n",
    "print(Kopt.shape)"
   ]
  },
  {
   "cell_type": "code",
   "execution_count": 10,
   "metadata": {},
   "outputs": [],
   "source": [
    "from scipy.io import loadmat, savemat\n",
    "np.random.seed(0)\n",
    "a = [0.01,0.021,-0.015,-0.012,0.093,0.058,0.014,-0.086,-0.096,0.056]\n",
    "b = [0.043,0.009,0.029,0.078,-0.023,0.006,0.085,-0.083,0.067,0.074]\n",
    "for i in range(1):\n",
    "    y0, z0 = y[0,0] + a[i], z[0,0] + b[i]\n",
    "# y0, z0 = y[0,0] + np.random.uniform(-0.1, 0.1, 1), z[0,0] + np.random.uniform(-0.1, 0.1, 1)\n",
    "    state_traj_KP, controls_traj_KP, error_KP = runLQRonFranka(Steps, states_des, Kopt,net, x[0,0], y0, z0)\n",
    "    savemat('Results/DKUC_FrankaFig8noise_SimData'+str(i)+'.mat', {'desired_states':states_des,  'states_KoopmanU': state_traj_KP, \n",
    "                                                    'error_KoopmanU':error_KP,\n",
    "                                                                        'y0':y0, 'z0':z0}) # save variables to Matlab file\n",
    "    "
   ]
  },
  {
   "cell_type": "code",
   "execution_count": 11,
   "metadata": {},
   "outputs": [
    {
     "name": "stdout",
     "output_type": "stream",
     "text": [
      "[[1.94874451]]\n"
     ]
    },
    {
     "data": {
      "image/png": "[encoded data removed]",
      "text/plain": [
       "<Figure size 432x288 with 1 Axes>"
      ]
     },
     "metadata": {
      "needs_background": "light"
     },
     "output_type": "display_data"
    }
   ],
   "source": [
    "trajs = loadmat('Results/DKUC_FrankaFig8noise_SimData0.mat')\n",
    "state_traj_LS = trajs['states_KoopmanU']\n",
    "desired_traj = trajs['desired_states']\n",
    "plt.plot(states_des[:,1],states_des[:,2],label='Desired')\n",
    "plt.plot(state_traj_KP[:,1],state_traj_KP[:,2],label='KP')\n",
    "print(trajs['error_KoopmanU'])\n",
    "plt.legend()\n",
    "plt.show()"
   ]
  },
  {
   "cell_type": "code",
   "execution_count": 12,
   "metadata": {},
   "outputs": [
    {
     "data": {
      "text/plain": [
       "Text(0, 0.5, 'z (m)')"
      ]
     },
     "execution_count": 12,
     "metadata": {},
     "output_type": "execute_result"
    },
    {
     "data": {
      "image/png": "[encoded data removed]",
      "text/plain": [
       "<Figure size 432x288 with 1 Axes>"
      ]
     },
     "metadata": {
      "needs_background": "light"
     },
     "output_type": "display_data"
    }
   ],
   "source": [
    "center = np.array([0.0,0.6])\n",
    "radius = 0.3\n",
    "theta_ = np.pi/10.0\n",
    "eradius = np.tan(2*theta_)*radius*np.cos(theta_)-radius*np.sin(theta_) \n",
    "Star_points = np.zeros((11,2))\n",
    "for i in range(5):\n",
    "    theta = 2*np.pi/5*(i+0.25)\n",
    "    Star_points[2*i,0] = np.cos(theta)*radius+center[0]\n",
    "    Star_points[2*i,1] = np.sin(theta)*radius+center[1]\n",
    "    beta = 2*np.pi/5*(i+0.75)\n",
    "    Star_points[2*i+1,0] = np.cos(beta)*eradius+center[0]\n",
    "    Star_points[2*i+1,1] = np.sin(beta)*eradius+center[1]    \n",
    "Star_points[-1,:] = Star_points[0,:]\n",
    "T = 6 *10 # time horizon \n",
    "t = 0.02*np.linspace(0, T*5, T*50+1) # time steps\n",
    "refs = np.zeros((len(t),2))\n",
    "Steps = len(t)-1\n",
    "each_num = int((len(t)-10)/9.5)\n",
    "for i in range(10):\n",
    "    refs[(each_num+1)*i,:] = Star_points[i,:]\n",
    "    if i!= 9:\n",
    "        num = each_num\n",
    "    else:\n",
    "        num = len(t)-(each_num+1)*i-1\n",
    "    for j in range(num):\n",
    "        t_ = (j+1)/(each_num+1)\n",
    "        refs[(each_num+1)*i+j+1,:] =  t_*Star_points[i+1,:] + (1-t_)*Star_points[i,:]\n",
    "# print(each_num,each_num*10.5)\n",
    "# print(t.shape)\n",
    "# plt.plot(Star_points[:,0],Star_points[:,1])\n",
    "x = 0.3*np.ones((len(t),1)) \n",
    "z = refs[:,1].reshape(-1,1)\n",
    "y =  refs[:,0].reshape(-1,1)\n",
    "plt.plot(y,z)\n",
    "plt.axis('equal')\n",
    "plt.xlabel('y (m)')\n",
    "plt.ylabel('z (m)')"
   ]
  },
  {
   "cell_type": "code",
   "execution_count": 13,
   "metadata": {},
   "outputs": [],
   "source": [
    "# Translate desired y-z coordinates to desired joint angles of the Franka robotic arm\n",
    "JointAngles_Fig8 = np.empty((len(t),7))\n",
    "JointAngles_Fig8[:] = np.NaN\n",
    "for i in range(len(t)):\n",
    "    JointAngles_Fig8[i,:] = accurateCalculateInverseKinematics(env.robot, env.ee_id, [x[i], y[i], z[i]], accuracy_invKin, 10000)\n",
    "states_des = np.concatenate( (x, y, z, JointAngles_Fig8, np.zeros((len(y), 7))), axis = 1)\n",
    "# states_des = np.concatenate((x,y,z), axis = 1)\n"
   ]
  },
  {
   "cell_type": "code",
   "execution_count": 14,
   "metadata": {},
   "outputs": [],
   "source": [
    "np.random.seed(0)\n",
    "a = [0.01,0.021,-0.015,-0.012,0.093,0.058,0.014,-0.086,-0.096,0.056]\n",
    "b = [0.043,0.009,0.029,0.078,-0.023,0.006,0.085,-0.083,0.067,0.074]\n",
    "for i in range(1):\n",
    "    y0, z0 = y[0,0] + a[i], z[0,0] + b[i]\n",
    "# y0, z0 = y[0,0] + np.random.uniform(-0.1, 0.1, 1), z[0,0] + np.random.uniform(-0.1, 0.1, 1)\n",
    "    state_traj_KP, controls_traj_KP, error_KP = runLQRonFranka(Steps, states_des, Kopt,net, x[0,0], y0, z0)\n",
    "    savemat('Results/DKUC_FrankaFigStarnoise_SimData'+str(i)+'.mat', {'desired_states':states_des,  'states_KoopmanU': state_traj_KP, \n",
    "                                                    'error_KoopmanU':error_KP,\n",
    "                                                                        'y0':y0, 'z0':z0}) # save variables to Matlab file\n",
    "    "
   ]
  },
  {
   "cell_type": "code",
   "execution_count": 15,
   "metadata": {},
   "outputs": [
    {
     "name": "stdout",
     "output_type": "stream",
     "text": [
      "[[2.1321643]]\n"
     ]
    },
    {
     "data": {
      "image/png": "[encoded data removed]",
      "text/plain": [
       "<Figure size 432x288 with 1 Axes>"
      ]
     },
     "metadata": {
      "needs_background": "light"
     },
     "output_type": "display_data"
    }
   ],
   "source": [
    "trajs = loadmat('Results/DKUC_FrankaFigStarnoise_SimData0.mat')\n",
    "state_traj_LS = trajs['states_KoopmanU']\n",
    "desired_traj = trajs['desired_states']\n",
    "plt.plot(states_des[:,1],states_des[:,2],label='Desired')\n",
    "plt.plot(state_traj_KP[:,1],state_traj_KP[:,2],label='KP')\n",
    "print(trajs['error_KoopmanU'])\n",
    "plt.legend()\n",
    "plt.show()"
   ]
  }
 ],
 "metadata": {
  "interpreter": {
   "hash": "a4d06311c44a4bca643a5b6bd1fed619513a1bbcc6119049a755b6c84aad7bef"
  },
  "kernelspec": {
   "display_name": "Python 3.7.11 64-bit ('mujoco': conda)",
   "language": "python",
   "name": "python3"
  },
  "language_info": {
   "codemirror_mode": {
    "name": "ipython",
    "version": 3
   },
   "file_extension": ".py",
   "mimetype": "text/x-python",
   "name": "python",
   "nbconvert_exporter": "python",
   "pygments_lexer": "ipython3",
   "version": "3.8.12"
  },
  "orig_nbformat": 4
 },
 "nbformat": 4,
 "nbformat_minor": 2
}
