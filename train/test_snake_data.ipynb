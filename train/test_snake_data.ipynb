{
 "cells": [
  {
   "cell_type": "code",
   "execution_count": 27,
   "metadata": {},
   "outputs": [
    {
     "name": "stdout",
     "output_type": "stream",
     "text": [
      "92\n",
      "93\n",
      "(16, 185, 17)\n",
      "1000 1501 18\n"
     ]
    }
   ],
   "source": [
    "import numpy as np\n",
    "data = np.load(\"/mnt/d/github/DeepKoopmanWithControl/Data/SnakeData.npy\")\n",
    "traj,traj_len,dim = data.shape\n",
    "steps = 15\n",
    "train_data = []\n",
    "for i in range():\n",
    "    traj_data = data[i,:,:]\n",
    "    end_index = np.where(traj_data[:,-1]==1)[0][0]\n",
    "    traj_num = end_index//(steps+1)\n",
    "    train_data_now = np.empty((steps+1,traj_num,17))\n",
    "    for j in range(traj_num):\n",
    "        train_data_now[:,j,:] = traj_data[j*(steps+1):(j+1)*(steps+1),:17]\n",
    "    train_data.append(train_data_now)\n",
    "    # print(traj_num)\n",
    "train_data = np.concatenate(train_data,axis=1)\n",
    "print(train_data.shape)\n",
    "# print(traj,traj_len,dim)\n"
   ]
  },
  {
   "cell_type": "code",
   "execution_count": 28,
   "metadata": {},
   "outputs": [
    {
     "name": "stdout",
     "output_type": "stream",
     "text": [
      "[]\n"
     ]
    }
   ],
   "source": [
    "t = np.empty((2,3,2))\n",
    "t = []\n",
    "print(t)"
   ]
  },
  {
   "cell_type": "code",
   "execution_count": 19,
   "metadata": {},
   "outputs": [
    {
     "name": "stdout",
     "output_type": "stream",
     "text": [
      "[-2.83469227e-03 -3.11102438e+00  9.95393624e-04  2.60998010e-03\n",
      "  4.43788409e-03 -1.05042800e-02  2.27360372e-02 -1.07578688e-02\n",
      "  4.61553277e-03 -8.20005514e-03  4.70291060e-03  1.03415858e-02\n",
      " -8.67519043e-04 -2.17530152e-02 -7.83667887e-03  3.25879111e-03\n",
      "  1.96060135e-02  6.66222518e-04]\n",
      "[ 0.3300791   2.70798606  0.24938542  5.08284692  0.33918403  4.92448921\n",
      "  0.34998085  4.7985626   0.4201932   5.93136902  0.62027403 10.15288026\n",
      "  0.50982522  0.59525885  0.66033009  0.66659245  0.72088727  0.02580269]\n"
     ]
    }
   ],
   "source": [
    "print(np.mean(data.reshape(-1,18),axis=0))\n",
    "print(np.std(data.reshape(-1,18),axis=0))"
   ]
  },
  {
   "cell_type": "code",
   "execution_count": 23,
   "metadata": {},
   "outputs": [
    {
     "name": "stdout",
     "output_type": "stream",
     "text": [
      "[-0.12585662 -0.01566145  0.          0.          0.          0.\n",
      "  0.          0.          0.          0.          0.          0.\n",
      " -0.47187504  0.95119882 -0.49065566 -0.17297803 -0.77865309  0.        ] [-1.23021931e-01  3.09536293e+00 -9.95393624e-04 -2.60998010e-03\n",
      " -4.43788409e-03  1.05042800e-02 -2.27360372e-02  1.07578688e-02\n",
      " -4.61553277e-03  8.20005514e-03 -4.70291060e-03 -1.03415858e-02\n",
      " -4.71007523e-01  9.72951831e-01 -4.82818982e-01 -1.76236820e-01\n",
      " -7.98259099e-01 -6.66222518e-04] [-3.72704398e-01  1.14304980e+00 -3.99138656e-03 -5.13487844e-04\n",
      " -1.30840008e-02  2.13306996e-03 -6.49636606e-02  2.24189401e-03\n",
      " -1.09843108e-02  1.38248946e-03 -7.58198850e-03 -1.01858640e-03\n",
      " -9.23860777e-01  1.63450208e+00 -7.31178224e-01 -2.64384664e-01\n",
      " -1.10732861e+00 -2.58198890e-02]\n"
     ]
    }
   ],
   "source": [
    "re_data = data-np.mean(data.reshape(-1,18),axis=0)\n",
    "re_data_normal = re_data/np.std(data.reshape(-1,18),axis=0)\n",
    "print(data[0,0,:],re_data[0,0,:],re_data_normal[0,0,:])"
   ]
  },
  {
   "cell_type": "code",
   "execution_count": 25,
   "metadata": {},
   "outputs": [
    {
     "data": {
      "text/plain": [
       "2.707986064999093"
      ]
     },
     "execution_count": 25,
     "metadata": {},
     "output_type": "execute_result"
    }
   ],
   "source": [
    "3.09536293e+00/1.14304980e+00"
   ]
  }
 ],
 "metadata": {
  "interpreter": {
   "hash": "d946eac6191836806eaae96fad8f081388f2bf8fcba874e17cb0a72253e5e7e5"
  },
  "kernelspec": {
   "display_name": "Python 3.8.12 ('koopman')",
   "language": "python",
   "name": "python3"
  },
  "language_info": {
   "codemirror_mode": {
    "name": "ipython",
    "version": 3
   },
   "file_extension": ".py",
   "mimetype": "text/x-python",
   "name": "python",
   "nbconvert_exporter": "python",
   "pygments_lexer": "ipython3",
   "version": "3.8.12"
  },
  "orig_nbformat": 4
 },
 "nbformat": 4,
 "nbformat_minor": 2
}
