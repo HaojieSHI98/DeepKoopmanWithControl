{
 "cells": [
  {
   "cell_type": "code",
   "execution_count": 10,
   "metadata": {},
   "outputs": [
    {
     "name": "stdout",
     "output_type": "stream",
     "text": [
      "92\n",
      "1000 1501 18\n"
     ]
    }
   ],
   "source": [
    "import numpy as np\n",
    "data = np.load(\"/mnt/d/github/DeepKoopmanWithControl/Data/SnakeData.npy\")\n",
    "traj,traj_len,dim = data.shape\n",
    "steps = 15\n",
    "train_data = []\n",
    "for i in range(1):\n",
    "    traj_data = data[i,:,:]\n",
    "    end_index = np.where(traj_data[:,-1]==1)[0][0]\n",
    "    traj_num = end_index//(steps+1)\n",
    "    train_data_now = np.empty((steps+1,traj_num,17))\n",
    "    for j in range(traj_num):\n",
    "        train_data_now[:,j,:] = traj_data[j*(steps+1):(j+1)*(steps+1),:17]\n",
    "        print((j+1)*(steps+1))\n",
    "    print(end_index//(steps+1))\n",
    "print(traj,traj_len,dim)\n"
   ]
  },
  {
   "cell_type": "code",
   "execution_count": 11,
   "metadata": {},
   "outputs": [
    {
     "data": {
      "text/plain": [
       "1472"
      ]
     },
     "execution_count": 11,
     "metadata": {},
     "output_type": "execute_result"
    }
   ],
   "source": [
    "92*16"
   ]
  }
 ],
 "metadata": {
  "interpreter": {
   "hash": "d946eac6191836806eaae96fad8f081388f2bf8fcba874e17cb0a72253e5e7e5"
  },
  "kernelspec": {
   "display_name": "Python 3.8.12 ('koopman')",
   "language": "python",
   "name": "python3"
  },
  "language_info": {
   "codemirror_mode": {
    "name": "ipython",
    "version": 3
   },
   "file_extension": ".py",
   "mimetype": "text/x-python",
   "name": "python",
   "nbconvert_exporter": "python",
   "pygments_lexer": "ipython3",
   "version": "3.8.12"
  },
  "orig_nbformat": 4
 },
 "nbformat": 4,
 "nbformat_minor": 2
}
