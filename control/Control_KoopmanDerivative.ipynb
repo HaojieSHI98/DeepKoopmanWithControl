{
 "cells": [
  {
   "cell_type": "code",
   "execution_count": 1,
   "metadata": {},
   "outputs": [
    {
     "name": "stderr",
     "output_type": "stream",
     "text": [
      "/home/stone/anaconda3/envs/mujoco/lib/python3.7/site-packages/ale_py/roms/utils.py:90: DeprecationWarning: SelectableGroups dict interface is deprecated. Use select.\n",
      "  for external in metadata.entry_points().get(self.group, []):\n"
     ]
    }
   ],
   "source": [
    "import torch\n",
    "import numpy as np\n",
    "import torch.nn as nn\n",
    "import torch.nn.functional as F\n",
    "import gym\n",
    "import matplotlib.pyplot as plt\n",
    "import random\n",
    "import argparse\n",
    "from collections import OrderedDict\n",
    "from copy import copy\n",
    "import scipy\n",
    "import scipy.linalg\n",
    "import sys\n",
    "sys.path.append(\"../utility\")\n",
    "sys.path.append(\"../train\")\n",
    "from Utility import DerivativeLiftFunc, data_collecter,RBFLiftFunc\n",
    "import lqr\n",
    "import time"
   ]
  },
  {
   "cell_type": "code",
   "execution_count": 2,
   "metadata": {},
   "outputs": [],
   "source": [
    "Methods = [\"KoopmanDerivative\",\"KoopmanRBF\",\\\n",
    "            \"KNonlinear\",\"KNonlinearRNN\",\"KoopmanU\",\\\n",
    "            \"KoopmanNonlinearA\",\"KoopmanNonlinear\",\\\n",
    "                ]"
   ]
  },
  {
   "cell_type": "code",
   "execution_count": 3,
   "metadata": {},
   "outputs": [],
   "source": [
    "method_index = 0\n",
    "# suffix = \"CartPole1_26\"\n",
    "# env_name = \"CartPole-v1\"\n",
    "# suffix = \"Pendulum1_26\"\n",
    "# env_name = \"Pendulum-v1\"\n",
    "suffix = \"DampingPendulum1_26\"\n",
    "env_name = \"DampingPendulum\"\n",
    "# suffix = \"MountainCarContinuous1_26\"\n",
    "# env_name = \"MountainCarContinuous-v0\""
   ]
  },
  {
   "cell_type": "code",
   "execution_count": 4,
   "metadata": {},
   "outputs": [
    {
     "name": "stdout",
     "output_type": "stream",
     "text": [
      "max eig val:(0.9999999999999998+0j)\n"
     ]
    }
   ],
   "source": [
    "Kd = np.load(\"Prediction_Results/\"+\"Kd_\"+env_name+\"_KoopmanDerivative\"+\".npy\")\n",
    "Data_collecter = data_collecter(env_name)\n",
    "Nstate = Data_collecter.Nstates\n",
    "udim = Data_collecter.udim\n",
    "LiftFunc = DerivativeLiftFunc(env_name,Nstate,udim)\n",
    "NKoopman = LiftFunc.NKoopman\n",
    "eig = np.linalg.eigvals(Kd)\n",
    "print(\"max eig val:{}\".format(max(eig)))\n",
    "# print(Kd)"
   ]
  },
  {
   "cell_type": "code",
   "execution_count": 5,
   "metadata": {},
   "outputs": [],
   "source": [
    "def Prepare_Region_LQR(env_name,precision = 0.1):\n",
    "    x_ref = np.zeros(Nstate)\n",
    "    if env_name.startswith(\"CartPole\"):\n",
    "        Q = np.zeros((NKoopman,NKoopman))\n",
    "        Q[1,1] = 0.01\n",
    "        Q[2,2] = 5.0\n",
    "        Q[3,3] = 0.01\n",
    "        R = np.eye(1)\n",
    "        theta_region = np.arange(-2.0,2.0,precision)\n",
    "        dtheta_region = np.arange(-2.0,2.0,precision)\n",
    "        reset_state_list = []\n",
    "        for theta in theta_region:\n",
    "            for dtheta in dtheta_region:\n",
    "                reset_state_list.append([0.0,0.0,theta,dtheta])\n",
    "    elif env_name.startswith(\"Pendulum\"):\n",
    "        Q = np.zeros((NKoopman,NKoopman))\n",
    "        Q[0,0] = 5.0\n",
    "        Q[1,1] = 0.01\n",
    "        R = np.eye(1)\n",
    "        theta = np.arange(-6.0,6.0,precision)\n",
    "        dtheta = np.arange(-6.0,6.0,precision)\n",
    "        thetaR,dthetaR = np.meshgrid(theta,dtheta)\n",
    "    elif env_name.startswith(\"DampingPendulum\"):\n",
    "        Q = np.zeros((NKoopman,NKoopman))\n",
    "        Q[0,0] = 5.0\n",
    "        Q[1,1] = 0.01\n",
    "        R = np.eye(1)\n",
    "        theta_region = np.arange(-4.0,4.0,precision)\n",
    "        dtheta_region = np.arange(-4.0,4.0,precision)\n",
    "        reset_state_list = []\n",
    "        for theta in theta_region:\n",
    "            for dtheta in dtheta_region:\n",
    "                reset_state_list.append([theta,dtheta])\n",
    "    elif env_name.startswith(\"MountainCarContinuous\"):\n",
    "        Q = np.zeros((NKoopman,NKoopman))\n",
    "        Q[0,0] = 5.0\n",
    "        Q[1,1] = 0.1\n",
    "        R = np.eye(1)\n",
    "        x_region = np.arange(-1.2,0.6,precision)\n",
    "        dx_region = np.arange(-1.0,1.0,precision)\n",
    "        reset_state_list = []\n",
    "        for x in x_region:\n",
    "            for dx in dx_region:\n",
    "                reset_state_list.append([x,dx])\n",
    "        x_ref[0] = 0.45\n",
    "    Q = np.matrix(Q)\n",
    "    R = np.matrix(R)\n",
    "    return Q,R,reset_state_list,x_ref"
   ]
  },
  {
   "cell_type": "code",
   "execution_count": 6,
   "metadata": {},
   "outputs": [],
   "source": [
    "def Done(env_name,state):\n",
    "    if env_name.startswith(\"CartPole\"):\n",
    "        done = (abs(state[2]) >= np.pi)\n",
    "    if env_name.startswith(\"Pendulum\"):\n",
    "        done = (abs(state[0]) >= 2*np.pi)\n",
    "    if env_name.startswith(\"DampingPendulum\"):\n",
    "        done = (abs(state[0]) >= 2*np.pi)\n",
    "    if env_name.startswith(\"MountainCarContinuous\"):\n",
    "        done = (state[0]>0.7 or state[0]<-1.3)\n",
    "    return done \n",
    "\n",
    "def exp(env,env_name,Ad,Bd,Q,R,reset_state,x_ref):\n",
    "    Kopt = lqr.lqr_regulator_k(Ad,Bd,Q,R)\n",
    "    observation_list = []\n",
    "    observation = np.array(env.reset_state(reset_state))\n",
    "    x0 = np.matrix(LiftFunc.Psi_s(observation)).reshape(NKoopman,1)\n",
    "    x_ref_lift = LiftFunc.Psi_s(x_ref).reshape(NKoopman,1)\n",
    "    observation_list.append(x0[:Nstate].reshape(-1,1))\n",
    "    u_list = []\n",
    "    steps = 200\n",
    "    flag = False\n",
    "    for i in range(steps):\n",
    "        u = -Kopt*(x0-x_ref_lift)\n",
    "        observation, reward, done, info = env.step(u[0,0])\n",
    "        done = Done(env_name,observation)\n",
    "        if done:\n",
    "            flag = True\n",
    "            break\n",
    "        x0 = np.matrix(LiftFunc.Psi_s(observation)).reshape(NKoopman,1)\n",
    "        observation_list.append(x0[:Nstate].reshape(-1,1))\n",
    "        u_list.append(u)\n",
    "    u_list = np.array(u_list).reshape(-1)\n",
    "    observations = np.concatenate(observation_list,axis=1)\n",
    "    return observations,u_list,flag\n",
    "\n",
    "def criterion(env_name,observations,flag):\n",
    "    if flag:\n",
    "        return 0\n",
    "    elif env_name.startswith(\"CartPole\"):\n",
    "        err = np.mean(abs(observations[2:,195:]))\n",
    "        good = int(err <= 1e-2)\n",
    "    elif env_name.startswith(\"Pendulum\"):\n",
    "        err = np.mean(abs(observations[:,195:]))\n",
    "        good = int(err <= 1e-2)        \n",
    "    elif env_name.startswith(\"DampingPendulum\"):\n",
    "        err = np.mean(abs(observations[:,195:]))\n",
    "        good = int(err <= 1e-2)    \n",
    "    elif env_name.startswith(\"MountainCarContinuous\"):\n",
    "        err = np.mean(abs(observations[0,195:]-0.45))+np.mean(abs(observations[1,195:]))\n",
    "        good = int(err <= 1e-2)      \n",
    "    return good\n",
    "\n",
    "def Err(env_name,observations,flag):\n",
    "    if flag:\n",
    "        return None\n",
    "    elif env_name.startswith(\"CartPole\"):\n",
    "        err = np.mean(abs(observations[2:,195:]))\n",
    "    elif env_name.startswith(\"Pendulum\"):\n",
    "        err = np.mean(abs(observations[:,195:]))\n",
    "    elif env_name.startswith(\"DampingPendulum\"):\n",
    "        err = np.mean(abs(observations[:,195:]))\n",
    "    elif env_name.startswith(\"MountainCarContinuous\"):\n",
    "        err = np.mean(abs(observations[0,195:]-0.45))+np.mean(abs(observations[1,195:]))\n",
    "    return err\n",
    "\n",
    "def Cost(observations,u_list,Q,R,x_ref):\n",
    "    steps = observations.shape[1]\n",
    "    loss = 0\n",
    "    for s in range(steps):\n",
    "        if s!=steps-1:\n",
    "            ucost = np.dot(np.dot(u_list[s].T,R),u_list[s])\n",
    "            loss += ucost[0,0]\n",
    "        xcost = np.dot(np.dot((observations[:,s]-x_ref).T,Q),(observations[:,s]-x_ref))\n",
    "        loss += xcost[0,0]\n",
    "    return loss"
   ]
  },
  {
   "cell_type": "code",
   "execution_count": 8,
   "metadata": {},
   "outputs": [
    {
     "name": "stdout",
     "output_type": "stream",
     "text": [
      "Uval:0.01 OK!\n"
     ]
    },
    {
     "ename": "KeyboardInterrupt",
     "evalue": "",
     "output_type": "error",
     "traceback": [
      "\u001b[0;31m---------------------------------------------------------------------------\u001b[0m",
      "\u001b[0;31mKeyboardInterrupt\u001b[0m                         Traceback (most recent call last)",
      "\u001b[0;32m/tmp/ipykernel_2245/2897909888.py\u001b[0m in \u001b[0;36m<module>\u001b[0;34m\u001b[0m\n\u001b[1;32m     11\u001b[0m     \u001b[0mCosts\u001b[0m \u001b[0;34m=\u001b[0m \u001b[0;34m{\u001b[0m\u001b[0;34m}\u001b[0m\u001b[0;34m\u001b[0m\u001b[0;34m\u001b[0m\u001b[0m\n\u001b[1;32m     12\u001b[0m     \u001b[0;32mfor\u001b[0m \u001b[0mreset_state\u001b[0m \u001b[0;32min\u001b[0m \u001b[0mreset_state_list\u001b[0m\u001b[0;34m:\u001b[0m\u001b[0;34m\u001b[0m\u001b[0;34m\u001b[0m\u001b[0m\n\u001b[0;32m---> 13\u001b[0;31m         \u001b[0mobs\u001b[0m\u001b[0;34m,\u001b[0m\u001b[0mu_list\u001b[0m\u001b[0;34m,\u001b[0m\u001b[0mflag\u001b[0m \u001b[0;34m=\u001b[0m \u001b[0mexp\u001b[0m\u001b[0;34m(\u001b[0m\u001b[0menv\u001b[0m\u001b[0;34m,\u001b[0m\u001b[0menv_name\u001b[0m\u001b[0;34m,\u001b[0m\u001b[0mAd\u001b[0m\u001b[0;34m,\u001b[0m\u001b[0mBd\u001b[0m\u001b[0;34m,\u001b[0m\u001b[0mQ\u001b[0m\u001b[0;34m,\u001b[0m\u001b[0mu_val\u001b[0m\u001b[0;34m*\u001b[0m\u001b[0mR\u001b[0m\u001b[0;34m,\u001b[0m\u001b[0mreset_state\u001b[0m\u001b[0;34m,\u001b[0m\u001b[0mx_ref\u001b[0m\u001b[0;34m)\u001b[0m\u001b[0;34m\u001b[0m\u001b[0;34m\u001b[0m\u001b[0m\n\u001b[0m\u001b[1;32m     14\u001b[0m         \u001b[0merr\u001b[0m \u001b[0;34m=\u001b[0m \u001b[0mErr\u001b[0m\u001b[0;34m(\u001b[0m\u001b[0menv_name\u001b[0m\u001b[0;34m,\u001b[0m\u001b[0mobs\u001b[0m\u001b[0;34m,\u001b[0m\u001b[0mflag\u001b[0m\u001b[0;34m)\u001b[0m\u001b[0;34m\u001b[0m\u001b[0;34m\u001b[0m\u001b[0m\n\u001b[1;32m     15\u001b[0m         \u001b[0mErrs\u001b[0m\u001b[0;34m[\u001b[0m\u001b[0;34m(\u001b[0m\u001b[0mreset_state\u001b[0m\u001b[0;34m[\u001b[0m\u001b[0;34m-\u001b[0m\u001b[0;36m2\u001b[0m\u001b[0;34m]\u001b[0m\u001b[0;34m,\u001b[0m\u001b[0mreset_state\u001b[0m\u001b[0;34m[\u001b[0m\u001b[0;34m-\u001b[0m\u001b[0;36m1\u001b[0m\u001b[0;34m]\u001b[0m\u001b[0;34m)\u001b[0m\u001b[0;34m]\u001b[0m \u001b[0;34m=\u001b[0m \u001b[0merr\u001b[0m\u001b[0;34m\u001b[0m\u001b[0;34m\u001b[0m\u001b[0m\n",
      "\u001b[0;32m/tmp/ipykernel_2245/3955047704.py\u001b[0m in \u001b[0;36mexp\u001b[0;34m(env, env_name, Ad, Bd, Q, R, reset_state, x_ref)\u001b[0m\n\u001b[1;32m     22\u001b[0m     \u001b[0;32mfor\u001b[0m \u001b[0mi\u001b[0m \u001b[0;32min\u001b[0m \u001b[0mrange\u001b[0m\u001b[0;34m(\u001b[0m\u001b[0msteps\u001b[0m\u001b[0;34m)\u001b[0m\u001b[0;34m:\u001b[0m\u001b[0;34m\u001b[0m\u001b[0;34m\u001b[0m\u001b[0m\n\u001b[1;32m     23\u001b[0m         \u001b[0mu\u001b[0m \u001b[0;34m=\u001b[0m \u001b[0;34m-\u001b[0m\u001b[0mKopt\u001b[0m\u001b[0;34m*\u001b[0m\u001b[0;34m(\u001b[0m\u001b[0mx0\u001b[0m\u001b[0;34m-\u001b[0m\u001b[0mx_ref_lift\u001b[0m\u001b[0;34m)\u001b[0m\u001b[0;34m\u001b[0m\u001b[0;34m\u001b[0m\u001b[0m\n\u001b[0;32m---> 24\u001b[0;31m         \u001b[0mobservation\u001b[0m\u001b[0;34m,\u001b[0m \u001b[0mreward\u001b[0m\u001b[0;34m,\u001b[0m \u001b[0mdone\u001b[0m\u001b[0;34m,\u001b[0m \u001b[0minfo\u001b[0m \u001b[0;34m=\u001b[0m \u001b[0menv\u001b[0m\u001b[0;34m.\u001b[0m\u001b[0mstep\u001b[0m\u001b[0;34m(\u001b[0m\u001b[0mu\u001b[0m\u001b[0;34m[\u001b[0m\u001b[0;36m0\u001b[0m\u001b[0;34m,\u001b[0m\u001b[0;36m0\u001b[0m\u001b[0;34m]\u001b[0m\u001b[0;34m)\u001b[0m\u001b[0;34m\u001b[0m\u001b[0;34m\u001b[0m\u001b[0m\n\u001b[0m\u001b[1;32m     25\u001b[0m         \u001b[0mdone\u001b[0m \u001b[0;34m=\u001b[0m \u001b[0mDone\u001b[0m\u001b[0;34m(\u001b[0m\u001b[0menv_name\u001b[0m\u001b[0;34m,\u001b[0m\u001b[0mobservation\u001b[0m\u001b[0;34m)\u001b[0m\u001b[0;34m\u001b[0m\u001b[0;34m\u001b[0m\u001b[0m\n\u001b[1;32m     26\u001b[0m         \u001b[0;32mif\u001b[0m \u001b[0mdone\u001b[0m\u001b[0;34m:\u001b[0m\u001b[0;34m\u001b[0m\u001b[0;34m\u001b[0m\u001b[0m\n",
      "\u001b[0;32m~/Documents/Koopman/DeepKoopmanRA-L/Utility.py\u001b[0m in \u001b[0;36mstep\u001b[0;34m(self, u)\u001b[0m\n\u001b[1;32m    146\u001b[0m     \u001b[0;32mdef\u001b[0m \u001b[0mstep\u001b[0m\u001b[0;34m(\u001b[0m\u001b[0mself\u001b[0m\u001b[0;34m,\u001b[0m\u001b[0mu\u001b[0m\u001b[0;34m)\u001b[0m\u001b[0;34m:\u001b[0m\u001b[0;34m\u001b[0m\u001b[0;34m\u001b[0m\u001b[0m\n\u001b[1;32m    147\u001b[0m         \u001b[0mu\u001b[0m \u001b[0;34m=\u001b[0m \u001b[0mnp\u001b[0m\u001b[0;34m.\u001b[0m\u001b[0marray\u001b[0m\u001b[0;34m(\u001b[0m\u001b[0mu\u001b[0m\u001b[0;34m)\u001b[0m\u001b[0;34m.\u001b[0m\u001b[0mreshape\u001b[0m\u001b[0;34m(\u001b[0m\u001b[0;36m1\u001b[0m\u001b[0;34m)\u001b[0m\u001b[0;34m\u001b[0m\u001b[0;34m\u001b[0m\u001b[0m\n\u001b[0;32m--> 148\u001b[0;31m         \u001b[0msn\u001b[0m \u001b[0;34m=\u001b[0m \u001b[0modeint\u001b[0m\u001b[0;34m(\u001b[0m\u001b[0mself\u001b[0m\u001b[0;34m.\u001b[0m\u001b[0msingle_pendulum\u001b[0m\u001b[0;34m,\u001b[0m \u001b[0mself\u001b[0m\u001b[0;34m.\u001b[0m\u001b[0ms0\u001b[0m\u001b[0;34m,\u001b[0m \u001b[0;34m[\u001b[0m\u001b[0;36m0\u001b[0m\u001b[0;34m,\u001b[0m \u001b[0mself\u001b[0m\u001b[0;34m.\u001b[0m\u001b[0mdt\u001b[0m\u001b[0;34m]\u001b[0m\u001b[0;34m,\u001b[0m \u001b[0margs\u001b[0m\u001b[0;34m=\u001b[0m\u001b[0;34m(\u001b[0m\u001b[0mu\u001b[0m\u001b[0;34m[\u001b[0m\u001b[0;36m0\u001b[0m\u001b[0;34m]\u001b[0m\u001b[0;34m,\u001b[0m\u001b[0;34m)\u001b[0m\u001b[0;34m)\u001b[0m\u001b[0;34m\u001b[0m\u001b[0;34m\u001b[0m\u001b[0m\n\u001b[0m\u001b[1;32m    149\u001b[0m         \u001b[0mself\u001b[0m\u001b[0;34m.\u001b[0m\u001b[0ms0\u001b[0m  \u001b[0;34m=\u001b[0m \u001b[0msn\u001b[0m\u001b[0;34m[\u001b[0m\u001b[0;34m-\u001b[0m\u001b[0;36m1\u001b[0m\u001b[0;34m,\u001b[0m\u001b[0;34m:\u001b[0m\u001b[0;34m]\u001b[0m\u001b[0;34m\u001b[0m\u001b[0;34m\u001b[0m\u001b[0m\n\u001b[1;32m    150\u001b[0m         \u001b[0mr\u001b[0m \u001b[0;34m=\u001b[0m\u001b[0;36m0\u001b[0m\u001b[0;34m\u001b[0m\u001b[0;34m\u001b[0m\u001b[0m\n",
      "\u001b[0;32m~/anaconda3/envs/mujoco/lib/python3.7/site-packages/scipy/integrate/odepack.py\u001b[0m in \u001b[0;36modeint\u001b[0;34m(func, y0, t, args, Dfun, col_deriv, full_output, ml, mu, rtol, atol, tcrit, h0, hmax, hmin, ixpr, mxstep, mxhnil, mxordn, mxords, printmessg, tfirst)\u001b[0m\n\u001b[1;32m    238\u001b[0m \u001b[0;34m\u001b[0m\u001b[0m\n\u001b[1;32m    239\u001b[0m     \u001b[0mt\u001b[0m \u001b[0;34m=\u001b[0m \u001b[0mcopy\u001b[0m\u001b[0;34m(\u001b[0m\u001b[0mt\u001b[0m\u001b[0;34m)\u001b[0m\u001b[0;34m\u001b[0m\u001b[0;34m\u001b[0m\u001b[0m\n\u001b[0;32m--> 240\u001b[0;31m     \u001b[0my0\u001b[0m \u001b[0;34m=\u001b[0m \u001b[0mcopy\u001b[0m\u001b[0;34m(\u001b[0m\u001b[0my0\u001b[0m\u001b[0;34m)\u001b[0m\u001b[0;34m\u001b[0m\u001b[0;34m\u001b[0m\u001b[0m\n\u001b[0m\u001b[1;32m    241\u001b[0m     output = _odepack.odeint(func, y0, t, args, Dfun, col_deriv, ml, mu,\n\u001b[1;32m    242\u001b[0m                              \u001b[0mfull_output\u001b[0m\u001b[0;34m,\u001b[0m \u001b[0mrtol\u001b[0m\u001b[0;34m,\u001b[0m \u001b[0matol\u001b[0m\u001b[0;34m,\u001b[0m \u001b[0mtcrit\u001b[0m\u001b[0;34m,\u001b[0m \u001b[0mh0\u001b[0m\u001b[0;34m,\u001b[0m \u001b[0mhmax\u001b[0m\u001b[0;34m,\u001b[0m \u001b[0mhmin\u001b[0m\u001b[0;34m,\u001b[0m\u001b[0;34m\u001b[0m\u001b[0;34m\u001b[0m\u001b[0m\n",
      "\u001b[0;32m~/anaconda3/envs/mujoco/lib/python3.7/copy.py\u001b[0m in \u001b[0;36mcopy\u001b[0;34m(x)\u001b[0m\n\u001b[1;32m     72\u001b[0m     \u001b[0mcls\u001b[0m \u001b[0;34m=\u001b[0m \u001b[0mtype\u001b[0m\u001b[0;34m(\u001b[0m\u001b[0mx\u001b[0m\u001b[0;34m)\u001b[0m\u001b[0;34m\u001b[0m\u001b[0;34m\u001b[0m\u001b[0m\n\u001b[1;32m     73\u001b[0m \u001b[0;34m\u001b[0m\u001b[0m\n\u001b[0;32m---> 74\u001b[0;31m     \u001b[0mcopier\u001b[0m \u001b[0;34m=\u001b[0m \u001b[0m_copy_dispatch\u001b[0m\u001b[0;34m.\u001b[0m\u001b[0mget\u001b[0m\u001b[0;34m(\u001b[0m\u001b[0mcls\u001b[0m\u001b[0;34m)\u001b[0m\u001b[0;34m\u001b[0m\u001b[0;34m\u001b[0m\u001b[0m\n\u001b[0m\u001b[1;32m     75\u001b[0m     \u001b[0;32mif\u001b[0m \u001b[0mcopier\u001b[0m\u001b[0;34m:\u001b[0m\u001b[0;34m\u001b[0m\u001b[0;34m\u001b[0m\u001b[0m\n\u001b[1;32m     76\u001b[0m         \u001b[0;32mreturn\u001b[0m \u001b[0mcopier\u001b[0m\u001b[0;34m(\u001b[0m\u001b[0mx\u001b[0m\u001b[0;34m)\u001b[0m\u001b[0;34m\u001b[0m\u001b[0;34m\u001b[0m\u001b[0m\n",
      "\u001b[0;31mKeyboardInterrupt\u001b[0m: "
     ]
    }
   ],
   "source": [
    "Ad = Kd[:NKoopman,:NKoopman]\n",
    "Bd = Kd[:NKoopman,NKoopman:]\n",
    "env = Data_collecter.env\n",
    "env.reset()\n",
    "Ad = np.matrix(Ad)\n",
    "Bd = np.matrix(Bd)\n",
    "precision = 0.1\n",
    "Q,R,reset_state_list,x_ref = Prepare_Region_LQR(env_name,precision=precision)\n",
    "for u_val in [0.01,0.1,1,2,5,10,20,50,100]:\n",
    "    Errs = {}\n",
    "    Costs = {}\n",
    "    for reset_state in reset_state_list:\n",
    "        obs,u_list,flag = exp(env,env_name,Ad,Bd,Q,u_val*R,reset_state,x_ref)\n",
    "        err = Err(env_name,obs,flag)\n",
    "        Errs[(reset_state[-2],reset_state[-1])] = err\n",
    "        if flag:\n",
    "            Costs[(reset_state[-2],reset_state[-1])] = None\n",
    "        else:\n",
    "            cost = Cost(obs,u_list,Q[:Nstate,:Nstate],0.0*R,x_ref)\n",
    "            Costs[(reset_state[-2],reset_state[-1])] = cost\n",
    "    np.savez(\"ControlResults2_2/\"+env_name+\"_KoopmanDerivative_uval{}.npz\".format(u_val),err=Errs,cost=Costs)\n",
    "    print(\"Uval:{} OK!\".format(u_val))"
   ]
  },
  {
   "cell_type": "code",
   "execution_count": 67,
   "metadata": {},
   "outputs": [],
   "source": [
    "Ad = Kd[:NKoopman,:NKoopman]\n",
    "Bd = Kd[:NKoopman,NKoopman:]\n",
    "env = Data_collecter.env\n",
    "env.reset()\n",
    "Ad = np.matrix(Ad)\n",
    "Bd = np.matrix(Bd)\n",
    "Results = {}\n",
    "precision = 0.1\n",
    "Q,R,reset_state_list,x_ref = Prepare_Region_LQR(env_name,precision=precision)\n",
    "for reset_state in reset_state_list:\n",
    "    for u_val in [0.001,0.01,0.1,1,2,5,10,20,50,100]:\n",
    "        obs,flag = exp(env,env_name,Ad,Bd,Q,u_val*R,reset_state,x_ref)\n",
    "        result = criterion(env_name,obs,flag)\n",
    "        Results[(reset_state[-2],reset_state[-1])] = result\n",
    "        if result:\n",
    "            break"
   ]
  },
  {
   "cell_type": "code",
   "execution_count": 68,
   "metadata": {},
   "outputs": [
    {
     "data": {
      "image/png": "[encoded data removed]",
      "text/plain": [
       "<Figure size 432x288 with 1 Axes>"
      ]
     },
     "metadata": {
      "needs_background": "light"
     },
     "output_type": "display_data"
    }
   ],
   "source": [
    "points = []\n",
    "for key in Results:\n",
    "    if Results[key]:\n",
    "        points.append(np.array([key[0],key[1]]))\n",
    "points = np.array(points).reshape(-1,2)\n",
    "plt.plot(points[:,0],points[:,1],'r*')\n",
    "plt.savefig(\"ControlResults/\"+env_name+\"_KoopmanDerivative_saferegion.png\")\n",
    "plt.show()\n",
    "# print(points.shape)\n",
    "np.save(\"ControlResults/\"+env_name+\"_KoopmanDerivative_saferegion.npy\",points)"
   ]
  },
  {
   "cell_type": "code",
   "execution_count": 96,
   "metadata": {},
   "outputs": [],
   "source": [
    "def Prepare_Single_LQR(env_name):\n",
    "    x_ref = np.zeros(Nstate)\n",
    "    if env_name.startswith(\"CartPole\"):\n",
    "        Q = np.zeros((NKoopman,NKoopman))\n",
    "        Q[1,1] = 0.01\n",
    "        Q[2,2] = 5.0\n",
    "        Q[3,3] = 0.01\n",
    "        R = 0.001*np.eye(1)\n",
    "        reset_state=  [0.0,0.0,-0.5,2.0]\n",
    "    elif env_name.startswith(\"Pendulum\"):\n",
    "        Q = np.zeros((NKoopman,NKoopman))\n",
    "        Q[0,0] = 5.0\n",
    "        Q[1,1] = 0.01\n",
    "        R = 0.01*np.eye(1)\n",
    "        reset_state = [-0.5,0.1]\n",
    "    elif env_name.startswith(\"DampingPendulum\"):\n",
    "        Q = np.zeros((NKoopman,NKoopman))\n",
    "        Q[0,0] = 5.0\n",
    "        Q[1,1] = 0.01\n",
    "        R = 0.01*np.eye(1)\n",
    "        reset_state = [-2.5,0.1]   \n",
    "    elif env_name.startswith(\"MountainCarContinuous\"):\n",
    "        Q = np.zeros((NKoopman,NKoopman))\n",
    "        Q[0,0] = 5.0\n",
    "        Q[1,1] = 0.1\n",
    "        R = 0.001*np.eye(1)\n",
    "        reset_state = [0.46,0.0]  \n",
    "        x_ref[0] = 0.45\n",
    "    Q = np.matrix(Q)\n",
    "    R = np.matrix(R)\n",
    "    return Q,R,reset_state,x_ref"
   ]
  },
  {
   "cell_type": "code",
   "execution_count": 97,
   "metadata": {},
   "outputs": [
    {
     "name": "stdout",
     "output_type": "stream",
     "text": [
      "0.0044869691676770644\n"
     ]
    },
    {
     "name": "stderr",
     "output_type": "stream",
     "text": [
      "/home/stone/Documents/Koopman/gym/gym/envs/classic_control/cartpole.py:156: UserWarning: \u001b[33mWARN: You are calling 'step()' even though this environment has already returned done = True. You should always call 'reset()' once you receive 'done = True' -- any further steps are undefined behavior.\u001b[0m\n",
      "  \"You are calling 'step()' even though this \"\n"
     ]
    },
    {
     "data": {
      "image/png": "[encoded data removed]",
      "text/plain": [
       "<Figure size 432x288 with 1 Axes>"
      ]
     },
     "metadata": {
      "needs_background": "light"
     },
     "output_type": "display_data"
    }
   ],
   "source": [
    "Ad = Kd[:NKoopman,:NKoopman]\n",
    "Bd = Kd[:NKoopman,NKoopman:]\n",
    "env = Data_collecter.env\n",
    "env.reset()\n",
    "import lqr\n",
    "import time\n",
    "Ad = np.matrix(Ad)\n",
    "Bd = np.matrix(Bd)\n",
    "Q,R,reset_state,x_ref = Prepare_LQR(env_name)\n",
    "Kopt = lqr.lqr_regulator_k(Ad,Bd,Q,R)\n",
    "observation_list = []\n",
    "observation = np.array(env.reset_state(reset_state))\n",
    "x0 = np.matrix(LiftFunc.Psi_s(observation)).reshape(NKoopman,1)\n",
    "x_ref_lift = LiftFunc.Psi_s(x_ref).reshape(NKoopman,1)\n",
    "observation_list.append(x0[:Nstate].reshape(-1,1))\n",
    "# print(Kopt)\n",
    "u_list = []\n",
    "steps = 200\n",
    "# umax = 100\n",
    "for i in range(steps):\n",
    "    # env.render()\n",
    "    u = -Kopt*(x0-x_ref_lift)\n",
    "    # u = max(-umax,min(umax,u[0,0]))\n",
    "    # print(type(u[0,0]),type(u))\n",
    "    # print(u[0,0])\n",
    "    observation, reward, done, info = env.step(u[0,0])\n",
    "    x0 = np.matrix(LiftFunc.Psi_s(observation)).reshape(NKoopman,1)\n",
    "    # x0 = Ad*x0+Bd*u\n",
    "    observation_list.append(x0[:Nstate].reshape(-1,1))\n",
    "    u_list.append(u)\n",
    "    # time.sleep(0.1)\n",
    "# print(observation_list)\n",
    "observations = np.concatenate(observation_list,axis=1)\n",
    "print(np.mean(abs(observations[2:,195:])))\n",
    "u_list = np.array(u_list).reshape(-1)\n",
    "time_history = np.arange(steps+1)*env.dt\n",
    "for i in range(Nstate):\n",
    "    plt.plot(time_history, observations[i,:].reshape(-1,1), label=\"x{}\".format(i))\n",
    "plt.grid(True)\n",
    "plt.title(\"LQR Regulator\")\n",
    "plt.legend()\n",
    "plt.show()"
   ]
  }
 ],
 "metadata": {
  "interpreter": {
   "hash": "a4d06311c44a4bca643a5b6bd1fed619513a1bbcc6119049a755b6c84aad7bef"
  },
  "kernelspec": {
   "display_name": "Python 3",
   "language": "python",
   "name": "python3"
  },
  "language_info": {
   "codemirror_mode": {
    "name": "ipython",
    "version": 3
   },
   "file_extension": ".py",
   "mimetype": "text/x-python",
   "name": "python",
   "nbconvert_exporter": "python",
   "pygments_lexer": "ipython3",
   "version": "3.8.3"
  }
 },
 "nbformat": 4,
 "nbformat_minor": 4
}
